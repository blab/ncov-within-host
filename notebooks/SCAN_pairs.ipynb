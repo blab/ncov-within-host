{
 "cells": [
  {
   "cell_type": "markdown",
   "metadata": {},
   "source": [
    "# Shared iSNVs in SCAN transmission pairs\n",
    "\n",
    "This notebook examines iSNVs in 6 SCAN transmission pairs comparing to random pairs.\n",
    "\n",
    "Transmission pairs were identified by looking at all SCAN samples, finding samples from the same household, and eliminating household in which all samples had a symptom onset date within a day or two of each other.\n",
    "If samples lacked a symptom onset date, they were not eliminated at this stage. For households with greater than 2 samples, symptom onset & the phylogenetic tree were used to construct transmission pairs. Note: It's possible for one sample to be part of more than one transmission pair because one person could have infected two individuals."
   ]
  },
  {
   "cell_type": "code",
   "execution_count": 2,
   "metadata": {},
   "outputs": [],
   "source": [
    "import pandas as pd\n",
    "import seaborn as sns\n",
    "import matplotlib.pyplot as plt\n",
    "from scipy import stats\n",
    "import numpy as np"
   ]
  },
  {
   "cell_type": "code",
   "execution_count": 3,
   "metadata": {},
   "outputs": [],
   "source": [
    "def load_df(file):\n",
    "    '''\n",
    "    Loads metadata tsv as df.\n",
    "    '''\n",
    "    with open(file) as tfile:\n",
    "        df = pd.read_csv(tfile, sep = '\\t')\n",
    "        if 'nwgc_id' in df.columns:\n",
    "            df['nwgc_id'] = df.nwgc_id.astype('str')\n",
    "        if 'position' and 'variant' in df.columns:\n",
    "            df['snv'] = df['position'].astype('str').str.cat(df['variant'],sep=\"\")\n",
    "    return df\n",
    "\n",
    "pairs_snvs = load_df('../results/snvs_scan_pairs.tsv')\n",
    "pairs_meta = load_df('../results/metadata_scan_pairs.tsv')"
   ]
  },
  {
   "cell_type": "markdown",
   "metadata": {},
   "source": [
    "## How many SNVs per sample?"
   ]
  },
  {
   "cell_type": "code",
   "execution_count": 4,
   "metadata": {},
   "outputs": [
    {
     "data": {
      "text/plain": [
       "<seaborn.axisgrid.FacetGrid at 0x7f468d7abe10>"
      ]
     },
     "execution_count": 4,
     "metadata": {},
     "output_type": "execute_result"
    },
    {
     "data": {
      "image/png": "[encoded data removed]",
      "text/plain": [
       "<Figure size 447.75x360 with 1 Axes>"
      ]
     },
     "metadata": {
      "needs_background": "light"
     },
     "output_type": "display_data"
    }
   ],
   "source": [
    "sns.displot(pairs_meta, x='n_snvs', hue = 'pair_type', element='step')"
   ]
  },
  {
   "cell_type": "code",
   "execution_count": 5,
   "metadata": {},
   "outputs": [
    {
     "data": {
      "text/plain": [
       "RanksumsResult(statistic=0.46188021535170054, pvalue=0.6441672226837103)"
      ]
     },
     "execution_count": 5,
     "metadata": {},
     "output_type": "execute_result"
    }
   ],
   "source": [
    "stats.ranksums(pairs_meta.loc[pairs_meta.pair_type == 'household', 'n_snvs'], pairs_meta.loc[pairs_meta.pair_type == 'random', 'n_snvs'])"
   ]
  },
  {
   "cell_type": "markdown",
   "metadata": {},
   "source": [
    "iSNVs per sample in Household pairs"
   ]
  },
  {
   "cell_type": "code",
   "execution_count": 6,
   "metadata": {},
   "outputs": [
    {
     "name": "stdout",
     "output_type": "stream",
     "text": [
      "8\n",
      "193\n",
      "26.5\n"
     ]
    }
   ],
   "source": [
    "print(pairs_meta.loc[pairs_meta.pair_type == 'household', 'n_snvs'].min())\n",
    "print(pairs_meta.loc[pairs_meta.pair_type == 'household', 'n_snvs'].max())\n",
    "print(pairs_meta.loc[pairs_meta.pair_type == 'household', 'n_snvs'].median())"
   ]
  },
  {
   "cell_type": "markdown",
   "metadata": {},
   "source": [
    "iSNVs per sample in Random pairs"
   ]
  },
  {
   "cell_type": "code",
   "execution_count": 7,
   "metadata": {},
   "outputs": [
    {
     "name": "stdout",
     "output_type": "stream",
     "text": [
      "5\n",
      "119\n",
      "16.5\n"
     ]
    }
   ],
   "source": [
    "print(pairs_meta.loc[pairs_meta.pair_type == 'random', 'n_snvs'].min())\n",
    "print(pairs_meta.loc[pairs_meta.pair_type == 'random', 'n_snvs'].max())\n",
    "print(pairs_meta.loc[pairs_meta.pair_type == 'random', 'n_snvs'].median())"
   ]
  },
  {
   "cell_type": "markdown",
   "metadata": {},
   "source": [
    "## What is the distribution of iSNVs frequency?"
   ]
  },
  {
   "cell_type": "code",
   "execution_count": 8,
   "metadata": {},
   "outputs": [
    {
     "data": {
      "text/plain": [
       "<seaborn.axisgrid.FacetGrid at 0x7f468cee6208>"
      ]
     },
     "execution_count": 8,
     "metadata": {},
     "output_type": "execute_result"
    },
    {
     "data": {
      "image/png": "[encoded data removed]",
      "text/plain": [
       "<Figure size 447.75x360 with 1 Axes>"
      ]
     },
     "metadata": {
      "needs_background": "light"
     },
     "output_type": "display_data"
    }
   ],
   "source": [
    "ax = sns.displot(pairs_snvs, x='frequency', hue='pair_type', stat='probability', common_norm=False, element='step')\n",
    "ax.set(ylabel='Proportion', xlabel='Frequency of iSNV')"
   ]
  },
  {
   "cell_type": "code",
   "execution_count": 9,
   "metadata": {},
   "outputs": [
    {
     "data": {
      "text/plain": [
       "RanksumsResult(statistic=-0.8283043911374233, pvalue=0.40749813665188417)"
      ]
     },
     "execution_count": 9,
     "metadata": {},
     "output_type": "execute_result"
    }
   ],
   "source": [
    "stats.ranksums(pairs_snvs.loc[pairs_snvs.pair_type == 'household', 'frequency'], pairs_snvs.loc[pairs_snvs.pair_type == 'random', 'frequency'])"
   ]
  },
  {
   "cell_type": "markdown",
   "metadata": {},
   "source": [
    "Frequency of iSNVs in Household pairs"
   ]
  },
  {
   "cell_type": "code",
   "execution_count": 10,
   "metadata": {},
   "outputs": [
    {
     "name": "stdout",
     "output_type": "stream",
     "text": [
      "0.010008963250672244\n",
      "0.4356435643564357\n",
      "0.019445878961340632\n"
     ]
    }
   ],
   "source": [
    "print(pairs_snvs.loc[pairs_snvs.pair_type == 'household', 'frequency'].min())\n",
    "print(pairs_snvs.loc[pairs_snvs.pair_type == 'household', 'frequency'].max())\n",
    "print(pairs_snvs.loc[pairs_snvs.pair_type == 'household', 'frequency'].median())"
   ]
  },
  {
   "cell_type": "markdown",
   "metadata": {},
   "source": [
    "Frequency of iSNVs in Random pairs"
   ]
  },
  {
   "cell_type": "code",
   "execution_count": 11,
   "metadata": {},
   "outputs": [
    {
     "name": "stdout",
     "output_type": "stream",
     "text": [
      "0.010004001600640256\n",
      "0.3217922606924644\n",
      "0.019941132916089184\n"
     ]
    }
   ],
   "source": [
    "print(pairs_snvs.loc[pairs_snvs.pair_type == 'random', 'frequency'].min())\n",
    "print(pairs_snvs.loc[pairs_snvs.pair_type == 'random', 'frequency'].max())\n",
    "print(pairs_snvs.loc[pairs_snvs.pair_type == 'random', 'frequency'].median())"
   ]
  },
  {
   "cell_type": "markdown",
   "metadata": {},
   "source": [
    "## What types of mutations are the variants?"
   ]
  },
  {
   "cell_type": "code",
   "execution_count": 12,
   "metadata": {},
   "outputs": [
    {
     "data": {
      "text/plain": [
       "<seaborn.axisgrid.FacetGrid at 0x7f4688dd65c0>"
      ]
     },
     "execution_count": 12,
     "metadata": {},
     "output_type": "execute_result"
    },
    {
     "data": {
      "image/png": "[encoded data removed]",
      "text/plain": [
       "<Figure size 447.75x360 with 1 Axes>"
      ]
     },
     "metadata": {
      "needs_background": "light"
     },
     "output_type": "display_data"
    }
   ],
   "source": [
    "# recoding non-coding mutations as synonymous\n",
    "pairs_snvs['mut_type'] = pairs_snvs.mut_type.replace(to_replace='NC', value='S')\n",
    "\n",
    "ax = sns.displot(pairs_snvs, x='mut_type', hue='pair_type', stat='probability', common_norm=False, multiple='dodge')\n",
    "ax.set(ylabel='Proportion', xlabel='Type of mutation')"
   ]
  },
  {
   "cell_type": "code",
   "execution_count": 13,
   "metadata": {},
   "outputs": [
    {
     "data": {
      "text/plain": [
       "0.014893495804383162"
      ]
     },
     "execution_count": 13,
     "metadata": {},
     "output_type": "execute_result"
    }
   ],
   "source": [
    "def chi2(df):\n",
    "    cross_tab = pd.crosstab(df['pair_type'], df['mut_type'])\n",
    "    chi2, p, dof, ex = stats.chi2_contingency(cross_tab, correction = False)\n",
    "    return p\n",
    "\n",
    "chi2(pairs_snvs)"
   ]
  },
  {
   "cell_type": "code",
   "execution_count": 14,
   "metadata": {},
   "outputs": [
    {
     "data": {
      "text/plain": [
       "<seaborn.axisgrid.FacetGrid at 0x7f4690aa7080>"
      ]
     },
     "execution_count": 14,
     "metadata": {},
     "output_type": "execute_result"
    },
    {
     "data": {
      "image/png": "[encoded data removed]",
      "text/plain": [
       "<Figure size 415x360 with 1 Axes>"
      ]
     },
     "metadata": {
      "needs_background": "light"
     },
     "output_type": "display_data"
    }
   ],
   "source": [
    "ax = sns.displot(pairs_snvs, x='frequency', hue='mut_type', stat='probability', common_norm=False, element='step')\n",
    "ax.set(ylabel='Proportion', xlabel='Frequency of iSNV')"
   ]
  },
  {
   "cell_type": "markdown",
   "metadata": {},
   "source": [
    "## Where in the genome are SNVs located?"
   ]
  },
  {
   "cell_type": "code",
   "execution_count": 15,
   "metadata": {},
   "outputs": [
    {
     "data": {
      "image/png": "[encoded data removed]",
      "text/plain": [
       "<Figure size 1440x144 with 1 Axes>"
      ]
     },
     "metadata": {
      "needs_background": "light"
     },
     "output_type": "display_data"
    }
   ],
   "source": [
    "df_location = pd.value_counts(pairs_snvs.position).to_frame(name='count').rename_axis('position').reset_index()\n",
    "plt.figure(figsize=(20,2))\n",
    "ax = sns.scatterplot(data=df_location, x='position', y='count')\n"
   ]
  },
  {
   "cell_type": "code",
   "execution_count": 16,
   "metadata": {},
   "outputs": [
    {
     "data": {
      "text/html": [
       "<div>\n",
       "<style scoped>\n",
       "    .dataframe tbody tr th:only-of-type {\n",
       "        vertical-align: middle;\n",
       "    }\n",
       "\n",
       "    .dataframe tbody tr th {\n",
       "        vertical-align: top;\n",
       "    }\n",
       "\n",
       "    .dataframe thead th {\n",
       "        text-align: right;\n",
       "    }\n",
       "</style>\n",
       "<table border=\"1\" class=\"dataframe\">\n",
       "  <thead>\n",
       "    <tr style=\"text-align: right;\">\n",
       "      <th></th>\n",
       "      <th>position</th>\n",
       "      <th>count</th>\n",
       "    </tr>\n",
       "  </thead>\n",
       "  <tbody>\n",
       "    <tr>\n",
       "      <th>0</th>\n",
       "      <td>1730</td>\n",
       "      <td>19</td>\n",
       "    </tr>\n",
       "    <tr>\n",
       "      <th>1</th>\n",
       "      <td>9502</td>\n",
       "      <td>12</td>\n",
       "    </tr>\n",
       "    <tr>\n",
       "      <th>2</th>\n",
       "      <td>13225</td>\n",
       "      <td>10</td>\n",
       "    </tr>\n",
       "    <tr>\n",
       "      <th>3</th>\n",
       "      <td>19406</td>\n",
       "      <td>9</td>\n",
       "    </tr>\n",
       "    <tr>\n",
       "      <th>4</th>\n",
       "      <td>8084</td>\n",
       "      <td>8</td>\n",
       "    </tr>\n",
       "    <tr>\n",
       "      <th>5</th>\n",
       "      <td>21440</td>\n",
       "      <td>8</td>\n",
       "    </tr>\n",
       "    <tr>\n",
       "      <th>6</th>\n",
       "      <td>25777</td>\n",
       "      <td>8</td>\n",
       "    </tr>\n",
       "    <tr>\n",
       "      <th>7</th>\n",
       "      <td>29867</td>\n",
       "      <td>7</td>\n",
       "    </tr>\n",
       "    <tr>\n",
       "      <th>8</th>\n",
       "      <td>22104</td>\n",
       "      <td>6</td>\n",
       "    </tr>\n",
       "    <tr>\n",
       "      <th>9</th>\n",
       "      <td>29866</td>\n",
       "      <td>6</td>\n",
       "    </tr>\n",
       "    <tr>\n",
       "      <th>10</th>\n",
       "      <td>19554</td>\n",
       "      <td>6</td>\n",
       "    </tr>\n",
       "    <tr>\n",
       "      <th>11</th>\n",
       "      <td>29865</td>\n",
       "      <td>5</td>\n",
       "    </tr>\n",
       "    <tr>\n",
       "      <th>12</th>\n",
       "      <td>21424</td>\n",
       "      <td>5</td>\n",
       "    </tr>\n",
       "    <tr>\n",
       "      <th>13</th>\n",
       "      <td>26654</td>\n",
       "      <td>4</td>\n",
       "    </tr>\n",
       "    <tr>\n",
       "      <th>14</th>\n",
       "      <td>11654</td>\n",
       "      <td>4</td>\n",
       "    </tr>\n",
       "    <tr>\n",
       "      <th>15</th>\n",
       "      <td>29859</td>\n",
       "      <td>3</td>\n",
       "    </tr>\n",
       "    <tr>\n",
       "      <th>16</th>\n",
       "      <td>12842</td>\n",
       "      <td>3</td>\n",
       "    </tr>\n",
       "    <tr>\n",
       "      <th>17</th>\n",
       "      <td>25771</td>\n",
       "      <td>3</td>\n",
       "    </tr>\n",
       "    <tr>\n",
       "      <th>18</th>\n",
       "      <td>2204</td>\n",
       "      <td>3</td>\n",
       "    </tr>\n",
       "    <tr>\n",
       "      <th>19</th>\n",
       "      <td>13068</td>\n",
       "      <td>3</td>\n",
       "    </tr>\n",
       "  </tbody>\n",
       "</table>\n",
       "</div>"
      ],
      "text/plain": [
       "    position  count\n",
       "0       1730     19\n",
       "1       9502     12\n",
       "2      13225     10\n",
       "3      19406      9\n",
       "4       8084      8\n",
       "5      21440      8\n",
       "6      25777      8\n",
       "7      29867      7\n",
       "8      22104      6\n",
       "9      29866      6\n",
       "10     19554      6\n",
       "11     29865      5\n",
       "12     21424      5\n",
       "13     26654      4\n",
       "14     11654      4\n",
       "15     29859      3\n",
       "16     12842      3\n",
       "17     25771      3\n",
       "18      2204      3\n",
       "19     13068      3"
      ]
     },
     "execution_count": 16,
     "metadata": {},
     "output_type": "execute_result"
    }
   ],
   "source": [
    "df_location.head(n=20)"
   ]
  },
  {
   "cell_type": "markdown",
   "metadata": {},
   "source": [
    "## Are iSNVs shared by transmission pairs?"
   ]
  },
  {
   "cell_type": "code",
   "execution_count": 17,
   "metadata": {},
   "outputs": [
    {
     "data": {
      "text/plain": [
       "<seaborn.axisgrid.FacetGrid at 0x7f468d7abda0>"
      ]
     },
     "execution_count": 17,
     "metadata": {},
     "output_type": "execute_result"
    },
    {
     "data": {
      "text/plain": [
       "<Figure size 576x288 with 0 Axes>"
      ]
     },
     "metadata": {},
     "output_type": "display_data"
    },
    {
     "data": {
      "image/png": "[encoded data removed]",
      "text/plain": [
       "<Figure size 912.75x432 with 2 Axes>"
      ]
     },
     "metadata": {
      "needs_background": "light"
     },
     "output_type": "display_data"
    }
   ],
   "source": [
    "def pair_frequencies(df):\n",
    "    df['pair'] = df.pair.astype('str')\n",
    "    freq1 = []\n",
    "    freq2 = []\n",
    "    pair_types = []\n",
    "    pairs = []\n",
    "    for pair in df.pair.unique():\n",
    "        samples = df.loc[df.pair==pair, 'nwgc_id'].unique()\n",
    "        snvs = df.loc[df.nwgc_id.isin(samples), 'snv'].unique()\n",
    "        df1 = df[df.nwgc_id == samples[0]]\n",
    "        df2 = df[df.nwgc_id == samples[1]]\n",
    "        for snv in snvs:\n",
    "            if snv in df1.snv.values: \n",
    "                freq1.append(df1.loc[df1.snv==snv, 'frequency'].values[0])\n",
    "            else:\n",
    "                freq1.append(0)\n",
    "            if snv in df2.snv.values:\n",
    "                freq2.append(df2.loc[df2.snv==snv, 'frequency'].values[0])\n",
    "            else:\n",
    "                freq2.append(0)\n",
    "            pairs.append(pair)\n",
    "            pair_types.append(df1['pair_type'].unique()[0])\n",
    "    frequencies = pd.DataFrame({'freq1':freq1, 'freq2':freq2, 'pair':pairs, 'pair_type':pair_types})\n",
    "    return frequencies\n",
    "        \n",
    "frequencies = pair_frequencies(pairs_snvs)\n",
    "plt.figure(figsize=(8,4))\n",
    "g = sns.FacetGrid(frequencies, col='pair_type', hue='pair')\n",
    "g.map(sns.scatterplot,'freq1','freq2')\n",
    "g.fig.set_figwidth(12)\n",
    "g.fig.set_figheight(6)\n",
    "g.add_legend()\n"
   ]
  },
  {
   "cell_type": "code",
   "execution_count": 18,
   "metadata": {},
   "outputs": [
    {
     "data": {
      "image/png": "[encoded data removed]",
      "text/plain": [
       "<Figure size 432x288 with 1 Axes>"
      ]
     },
     "metadata": {
      "needs_background": "light"
     },
     "output_type": "display_data"
    }
   ],
   "source": [
    "def shared_by_pair(df):\n",
    "    pairs = []\n",
    "    pair_types = []\n",
    "    shared_snvs = []\n",
    "    for pair in df.pair.unique():\n",
    "        samples = df.loc[df.pair==pair, 'nwgc_id'].unique()\n",
    "        s1 = set(df.loc[df.nwgc_id==samples[0], 'snv'])\n",
    "        s2 = set(df.loc[df.nwgc_id==samples[1], 'snv'])\n",
    "        shared = s1.intersection(s2)\n",
    "        n_shared = len(shared)\n",
    "        pair_type = df.loc[df.pair == pair, 'pair_type'].unique()[0]\n",
    "        pairs.append(pair)\n",
    "        pair_types.append(pair_type) \n",
    "        shared_snvs.append(n_shared)\n",
    "    shared_pairs = pd.DataFrame({'pair' : pairs, 'n_shared' : shared_snvs, 'pair_type' : pair_types})\n",
    "    return shared_pairs\n",
    "\n",
    "shared_pairs = shared_by_pair(pairs_snvs)\n",
    "fig, ax = plt.subplots()\n",
    "sns.histplot(shared_pairs, x='n_shared', hue = 'pair_type', multiple='stack', ax =ax)\n",
    "ax.set_xticks(np.arange(min(shared_pairs['n_shared'])+0.5, max(shared_pairs['n_shared'])+0.5, 1.0))\n",
    "ax.set_xticklabels(range(7))\n",
    "plt.show()\n",
    "        \n",
    "\n",
    "        "
   ]
  },
  {
   "cell_type": "code",
   "execution_count": 19,
   "metadata": {},
   "outputs": [
    {
     "data": {
      "text/plain": [
       "RanksumsResult(statistic=0.560448538317805, pvalue=0.5751735319201967)"
      ]
     },
     "execution_count": 19,
     "metadata": {},
     "output_type": "execute_result"
    }
   ],
   "source": [
    "stats.ranksums(shared_pairs.loc[shared_pairs.pair_type == 'household', 'n_shared'], shared_pairs.loc[shared_pairs.pair_type == 'random', 'n_shared'])"
   ]
  },
  {
   "cell_type": "code",
   "execution_count": null,
   "metadata": {},
   "outputs": [],
   "source": []
  }
 ],
 "metadata": {
  "kernelspec": {
   "display_name": "nextstrain",
   "language": "python",
   "name": "nextstrain"
  },
  "language_info": {
   "codemirror_mode": {
    "name": "ipython",
    "version": 3
   },
   "file_extension": ".py",
   "mimetype": "text/x-python",
   "name": "python",
   "nbconvert_exporter": "python",
   "pygments_lexer": "ipython3",
   "version": "3.6.12"
  }
 },
 "nbformat": 4,
 "nbformat_minor": 4
}
