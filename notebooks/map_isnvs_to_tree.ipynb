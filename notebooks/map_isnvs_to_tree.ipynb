{
 "cells": [
  {
   "cell_type": "markdown",
   "metadata": {},
   "source": [
    "# iSNVs on tree\n",
    "\n",
    "In this notebook, we map iSNVs to the tree, identify transmission clusters from the tree and compare shared variants by transmission clusters, and compare shared variants by LBI.\n"
   ]
  },
  {
   "cell_type": "code",
   "execution_count": 18,
   "metadata": {},
   "outputs": [],
   "source": [
    "import pandas as pd\n",
    "import json\n",
    "import seaborn as sns\n",
    "import matplotlib.pyplot as plt\n",
    "from scipy import stats\n",
    "import numpy as np\n",
    "import baltic as bt"
   ]
  },
  {
   "cell_type": "code",
   "execution_count": 2,
   "metadata": {},
   "outputs": [],
   "source": [
    "# iSNVs\n",
    "def load_df(file):\n",
    "    '''\n",
    "    Loads metadata tsv as df.\n",
    "    '''\n",
    "    with open(file) as tfile:\n",
    "        df = pd.read_csv(tfile, sep = '\\t')\n",
    "        if 'nwgc_id' in df.columns:\n",
    "            df['nwgc_id'] = df.nwgc_id.astype('str')\n",
    "        if 'position' and 'variant' in df.columns:\n",
    "            df['snv'] = df['position'].astype('str').str.cat(df['variant'],sep=\"\")\n",
    "    return df\n",
    "\n",
    "scan_snvs = load_df('../results/snvs_scan_all.tsv')\n",
    "scan_snvs = scan_snvs[scan_snvs.avg_ct < 22]"
   ]
  },
  {
   "cell_type": "code",
   "execution_count": null,
   "metadata": {},
   "outputs": [],
   "source": []
  },
  {
   "cell_type": "code",
   "execution_count": 32,
   "metadata": {},
   "outputs": [
    {
     "name": "stdout",
     "output_type": "stream",
     "text": [
      "\n",
      "Tree height: 0.735170\n",
      "Tree length: 647.110598\n",
      "multitype tree\n",
      "annotations present\n",
      "\n",
      "Numbers of objects in tree: 22913 (10793 nodes and 12120 leaves)\n",
      "\n"
     ]
    }
   ],
   "source": [
    "# LoadsJSON tree\n",
    "def load_tree(file):\n",
    "    with open(file) as jfile:\n",
    "        tree_json = json.load(jfile)\n",
    "    json_translation={'absoluteTime':lambda k: k.traits['node_attrs']['num_date']['value'],'name':'name'} ## allows baltic to find correct attributes in JSON, height and name are required at a minimum\n",
    "    tree=bt.loadJSON(tree_json,json_translation)\n",
    "    return tree\n",
    "\n",
    "tree, meta = load_tree('../../spheres-augur-build/auspice/ncov_washington_all.json')\n"
   ]
  },
  {
   "cell_type": "markdown",
   "metadata": {},
   "source": [
    "## Map iSNVs to tree"
   ]
  },
  {
   "cell_type": "code",
   "execution_count": 8,
   "metadata": {},
   "outputs": [],
   "source": [
    "def add_ref_base(df):\n",
    "    df['snv'] = df['genome'] + df['position'].astype('str') + df['variant']\n",
    "    return df\n",
    "\n",
    "scan_snvs = add_ref_base(scan_snvs)"
   ]
  },
  {
   "cell_type": "code",
   "execution_count": 42,
   "metadata": {},
   "outputs": [],
   "source": [
    "def enumerate_tree_muts(tree):\n",
    "    '''\n",
    "    Modifed from Louise Moncla's within-host code: https://github.com/lmoncla/ncov-WI-within-host/blob/master/scripts/query-within-host-snvs-in-tree.ipynb\n",
    "    '''\n",
    "    tree_snps = {}\n",
    "    for k in tree.Objects:\n",
    "        if 'branch_attrs' in k.traits:\n",
    "            if 'mutations' in k.traits['branch_attrs']:\n",
    "                if 'nuc' in k.traits['branch_attrs']['mutations']:\n",
    "                    nt_muts = k.traits['branch_attrs']['mutations']['nuc']\n",
    "                    for n in nt_muts:\n",
    "                        if n not in tree_snps: \n",
    "                            tree_snps[n] = {\"branches_with_snv\":[], \"arose_on_tip\":0, \"arose_on_internal_node\":0}\n",
    "                        \n",
    "                        tree_snps[n][\"branches_with_snv\"].append(k.name)\n",
    "\n",
    "                        if k.branchType == \"node\":\n",
    "                            leaves = 0 #len(k.leaves)\n",
    "                            nodes = 1\n",
    "                        elif k.branchType == \"leaf\":\n",
    "                            leaves = 1\n",
    "                            nodes = 0\n",
    "\n",
    "                        tree_snps[n][\"arose_on_tip\"] += leaves\n",
    "                        tree_snps[n][\"arose_on_internal_node\"] += nodes\n",
    "                        \n",
    "    return(tree_snps)\n",
    "tree_snps = enumerate_tree_muts(tree)"
   ]
  },
  {
   "cell_type": "code",
   "execution_count": 43,
   "metadata": {},
   "outputs": [],
   "source": [
    "def dict_to_df(snps):\n",
    "    df = pd.DataFrame.from_dict(snps, orient = 'index')\n",
    "    df.reset_index(inplace=True)\n",
    "    df.columns = ['snv','branches_with_snv','arose_on_tip','arose_on_internal_node']\n",
    "    return df\n",
    "\n",
    "df_tree_snps = dict_to_df(tree_snps)"
   ]
  },
  {
   "cell_type": "code",
   "execution_count": 79,
   "metadata": {},
   "outputs": [],
   "source": [
    "def map_snvs(tree_df, snvs):\n",
    "    counts = pd.value_counts(snvs.snv).to_frame(name='samples_in').rename_axis('snv').reset_index()\n",
    "    freq = snvs.groupby('snv').mean().reset_index()\n",
    "    freq.rename(columns={'frequency':'avg_frequency'}, inplace=True)\n",
    "    df_snvs = counts.merge(freq.loc[:, ['avg_frequency', 'snv']])\n",
    "    df_snvs = df_snvs.merge(tree_df, how = 'left')\n",
    "    df_snvs[['arose_on_internal_node', 'arose_on_tip']] = df_snvs[['arose_on_internal_node', 'arose_on_tip']].fillna(value=0)\n",
    "    df_snvs['times_arose'] = df_snvs['arose_on_tip'] + df_snvs['arose_on_internal_node']\n",
    "    return df_snvs\n",
    "\n",
    "df_snvs = map_snvs(df_tree_snps, scan_snvs)"
   ]
  },
  {
   "cell_type": "code",
   "execution_count": 80,
   "metadata": {},
   "outputs": [
    {
     "data": {
      "text/html": [
       "<div>\n",
       "<style scoped>\n",
       "    .dataframe tbody tr th:only-of-type {\n",
       "        vertical-align: middle;\n",
       "    }\n",
       "\n",
       "    .dataframe tbody tr th {\n",
       "        vertical-align: top;\n",
       "    }\n",
       "\n",
       "    .dataframe thead th {\n",
       "        text-align: right;\n",
       "    }\n",
       "</style>\n",
       "<table border=\"1\" class=\"dataframe\">\n",
       "  <thead>\n",
       "    <tr style=\"text-align: right;\">\n",
       "      <th></th>\n",
       "      <th>snv</th>\n",
       "      <th>samples_in</th>\n",
       "      <th>avg_frequency</th>\n",
       "      <th>branches_with_snv</th>\n",
       "      <th>arose_on_tip</th>\n",
       "      <th>arose_on_internal_node</th>\n",
       "      <th>times_arose</th>\n",
       "    </tr>\n",
       "  </thead>\n",
       "  <tbody>\n",
       "    <tr>\n",
       "      <th>0</th>\n",
       "      <td>C9502T</td>\n",
       "      <td>74</td>\n",
       "      <td>0.046762</td>\n",
       "      <td>[USA/WA-S421/2020]</td>\n",
       "      <td>1.0</td>\n",
       "      <td>0.0</td>\n",
       "      <td>1.0</td>\n",
       "    </tr>\n",
       "    <tr>\n",
       "      <th>1</th>\n",
       "      <td>G1730A</td>\n",
       "      <td>71</td>\n",
       "      <td>0.034350</td>\n",
       "      <td>[USA/WA-S846/2020]</td>\n",
       "      <td>1.0</td>\n",
       "      <td>0.0</td>\n",
       "      <td>1.0</td>\n",
       "    </tr>\n",
       "    <tr>\n",
       "      <th>2</th>\n",
       "      <td>G19406A</td>\n",
       "      <td>36</td>\n",
       "      <td>0.014032</td>\n",
       "      <td>NaN</td>\n",
       "      <td>0.0</td>\n",
       "      <td>0.0</td>\n",
       "      <td>0.0</td>\n",
       "    </tr>\n",
       "    <tr>\n",
       "      <th>3</th>\n",
       "      <td>C13225T</td>\n",
       "      <td>33</td>\n",
       "      <td>0.014453</td>\n",
       "      <td>[USA/WA-S291/2020, USA/WA-UW212/2020, USA/WA-U...</td>\n",
       "      <td>3.0</td>\n",
       "      <td>0.0</td>\n",
       "      <td>3.0</td>\n",
       "    </tr>\n",
       "    <tr>\n",
       "      <th>4</th>\n",
       "      <td>C25777T</td>\n",
       "      <td>32</td>\n",
       "      <td>0.014672</td>\n",
       "      <td>[Algeria/G0638_2264/2020]</td>\n",
       "      <td>1.0</td>\n",
       "      <td>0.0</td>\n",
       "      <td>1.0</td>\n",
       "    </tr>\n",
       "    <tr>\n",
       "      <th>...</th>\n",
       "      <td>...</td>\n",
       "      <td>...</td>\n",
       "      <td>...</td>\n",
       "      <td>...</td>\n",
       "      <td>...</td>\n",
       "      <td>...</td>\n",
       "      <td>...</td>\n",
       "    </tr>\n",
       "    <tr>\n",
       "      <th>613</th>\n",
       "      <td>G22487C</td>\n",
       "      <td>1</td>\n",
       "      <td>0.020566</td>\n",
       "      <td>[USA/WA-S1018/2020, NODE_0003865, NODE_0005276...</td>\n",
       "      <td>2.0</td>\n",
       "      <td>2.0</td>\n",
       "      <td>4.0</td>\n",
       "    </tr>\n",
       "    <tr>\n",
       "      <th>614</th>\n",
       "      <td>C17397A</td>\n",
       "      <td>1</td>\n",
       "      <td>0.017094</td>\n",
       "      <td>NaN</td>\n",
       "      <td>0.0</td>\n",
       "      <td>0.0</td>\n",
       "      <td>0.0</td>\n",
       "    </tr>\n",
       "    <tr>\n",
       "      <th>615</th>\n",
       "      <td>C16887T</td>\n",
       "      <td>1</td>\n",
       "      <td>0.039421</td>\n",
       "      <td>[Singapore/685/2020, USA/MN-MDH-1361/2020, USA...</td>\n",
       "      <td>17.0</td>\n",
       "      <td>5.0</td>\n",
       "      <td>22.0</td>\n",
       "    </tr>\n",
       "    <tr>\n",
       "      <th>616</th>\n",
       "      <td>G2441A</td>\n",
       "      <td>1</td>\n",
       "      <td>0.013986</td>\n",
       "      <td>[USA/WA-S60/2020, USA/FL-BPHL-1283/2020]</td>\n",
       "      <td>2.0</td>\n",
       "      <td>0.0</td>\n",
       "      <td>2.0</td>\n",
       "    </tr>\n",
       "    <tr>\n",
       "      <th>617</th>\n",
       "      <td>T2446C</td>\n",
       "      <td>1</td>\n",
       "      <td>0.021739</td>\n",
       "      <td>[NODE_0002237]</td>\n",
       "      <td>0.0</td>\n",
       "      <td>1.0</td>\n",
       "      <td>1.0</td>\n",
       "    </tr>\n",
       "  </tbody>\n",
       "</table>\n",
       "<p>618 rows × 7 columns</p>\n",
       "</div>"
      ],
      "text/plain": [
       "         snv  samples_in  avg_frequency  \\\n",
       "0     C9502T          74       0.046762   \n",
       "1     G1730A          71       0.034350   \n",
       "2    G19406A          36       0.014032   \n",
       "3    C13225T          33       0.014453   \n",
       "4    C25777T          32       0.014672   \n",
       "..       ...         ...            ...   \n",
       "613  G22487C           1       0.020566   \n",
       "614  C17397A           1       0.017094   \n",
       "615  C16887T           1       0.039421   \n",
       "616   G2441A           1       0.013986   \n",
       "617   T2446C           1       0.021739   \n",
       "\n",
       "                                     branches_with_snv  arose_on_tip  \\\n",
       "0                                   [USA/WA-S421/2020]           1.0   \n",
       "1                                   [USA/WA-S846/2020]           1.0   \n",
       "2                                                  NaN           0.0   \n",
       "3    [USA/WA-S291/2020, USA/WA-UW212/2020, USA/WA-U...           3.0   \n",
       "4                            [Algeria/G0638_2264/2020]           1.0   \n",
       "..                                                 ...           ...   \n",
       "613  [USA/WA-S1018/2020, NODE_0003865, NODE_0005276...           2.0   \n",
       "614                                                NaN           0.0   \n",
       "615  [Singapore/685/2020, USA/MN-MDH-1361/2020, USA...          17.0   \n",
       "616           [USA/WA-S60/2020, USA/FL-BPHL-1283/2020]           2.0   \n",
       "617                                     [NODE_0002237]           0.0   \n",
       "\n",
       "     arose_on_internal_node  times_arose  \n",
       "0                       0.0          1.0  \n",
       "1                       0.0          1.0  \n",
       "2                       0.0          0.0  \n",
       "3                       0.0          3.0  \n",
       "4                       0.0          1.0  \n",
       "..                      ...          ...  \n",
       "613                     2.0          4.0  \n",
       "614                     0.0          0.0  \n",
       "615                     5.0         22.0  \n",
       "616                     0.0          2.0  \n",
       "617                     1.0          1.0  \n",
       "\n",
       "[618 rows x 7 columns]"
      ]
     },
     "execution_count": 80,
     "metadata": {},
     "output_type": "execute_result"
    }
   ],
   "source": [
    "df_snvs"
   ]
  },
  {
   "cell_type": "code",
   "execution_count": 66,
   "metadata": {},
   "outputs": [
    {
     "data": {
      "text/plain": [
       "618"
      ]
     },
     "execution_count": 66,
     "metadata": {},
     "output_type": "execute_result"
    }
   ],
   "source": [
    "len(df_snvs)"
   ]
  },
  {
   "cell_type": "code",
   "execution_count": 65,
   "metadata": {},
   "outputs": [
    {
     "data": {
      "text/plain": [
       "461"
      ]
     },
     "execution_count": 65,
     "metadata": {},
     "output_type": "execute_result"
    }
   ],
   "source": [
    "len(df_snvs[(df_snvs.arose_on_internal_node == 0) & (df_snvs.arose_on_tip == 0)])"
   ]
  },
  {
   "cell_type": "code",
   "execution_count": 141,
   "metadata": {},
   "outputs": [
    {
     "data": {
      "image/png": "[encoded data removed]",
      "text/plain": [
       "<Figure size 360x360 with 1 Axes>"
      ]
     },
     "metadata": {
      "needs_background": "light"
     },
     "output_type": "display_data"
    }
   ],
   "source": [
    "fig = plt.figure(figsize=(5,5))\n",
    "ax1 = fig.add_subplot(111)\n",
    "#ax1 = sns.kdeplot(data = df_snvs[~((df_snvs.arose_on_internal_node == 0) & (df_snvs.arose_on_tip == 0))], \n",
    "                  #x = 'arose_on_tip', y='arose_on_internal_node', cmap=\"Reds\", shade=True, bw_method=.15, levels=20, thresh=0)\n",
    " \n",
    "\n",
    "ax1 = sns.scatterplot(data = df_snvs, x = 'arose_on_tip', y='arose_on_internal_node', alpha=0.3, ax=ax1)\n",
    "ax1.set_aspect('equal')"
   ]
  },
  {
   "cell_type": "code",
   "execution_count": 131,
   "metadata": {},
   "outputs": [
    {
     "data": {
      "image/png": "[encoded data removed]",
      "text/plain": [
       "<Figure size 432x288 with 1 Axes>"
      ]
     },
     "metadata": {
      "needs_background": "light"
     },
     "output_type": "display_data"
    }
   ],
   "source": [
    "ax = sns.scatterplot(data=df_snvs[df_snvs.times_arose >0], x = 'times_arose', y = 'samples_in', alpha = 0.3)\n",
    "ax.set_yscale('log')"
   ]
  },
  {
   "cell_type": "code",
   "execution_count": 126,
   "metadata": {},
   "outputs": [
    {
     "data": {
      "image/png": "[encoded data removed]",
      "text/plain": [
       "<Figure size 432x288 with 1 Axes>"
      ]
     },
     "metadata": {
      "needs_background": "light"
     },
     "output_type": "display_data"
    }
   ],
   "source": [
    "ax = sns.scatterplot(data=df_snvs[df_snvs.arose_on_tip >0], x = 'arose_on_tip', y = 'samples_in', alpha=0.5)\n",
    "ax.set_yscale('log')"
   ]
  },
  {
   "cell_type": "code",
   "execution_count": 128,
   "metadata": {},
   "outputs": [
    {
     "data": {
      "image/png": "[encoded data removed]",
      "text/plain": [
       "<Figure size 432x288 with 1 Axes>"
      ]
     },
     "metadata": {
      "needs_background": "light"
     },
     "output_type": "display_data"
    }
   ],
   "source": [
    "ax = sns.scatterplot(data=df_snvs[df_snvs.arose_on_internal_node >0], x = 'arose_on_internal_node', y = 'samples_in', alpha=0.5)\n",
    "#ax.set_yscale('log')"
   ]
  },
  {
   "cell_type": "code",
   "execution_count": 132,
   "metadata": {},
   "outputs": [
    {
     "data": {
      "image/png": "[encoded data removed]",
      "text/plain": [
       "<Figure size 432x288 with 1 Axes>"
      ]
     },
     "metadata": {
      "needs_background": "light"
     },
     "output_type": "display_data"
    }
   ],
   "source": [
    "ax = sns.scatterplot(data=df_snvs[df_snvs.times_arose >0], x = 'times_arose', y = 'avg_frequency', alpha = 0.2)\n",
    "#ax.set_yscale('log')"
   ]
  },
  {
   "cell_type": "code",
   "execution_count": null,
   "metadata": {},
   "outputs": [],
   "source": [
    "d"
   ]
  },
  {
   "cell_type": "markdown",
   "metadata": {},
   "source": [
    "## Identify clusters"
   ]
  },
  {
   "cell_type": "code",
   "execution_count": 89,
   "metadata": {},
   "outputs": [],
   "source": [
    "def extract_washington_subtrees(baltic_tree):\n",
    "    \"\"\"\n",
    "    Code taken from Seattle Flu Augur Build. Function takes in a baltic tree object and returns a list of baltic tree objects.\n",
    "    Each returned tree object represents a point in the tree in which the tree moved from\n",
    "    a non-seattle deme into seattle. Note that this will return sub-sub trees, e.g.\n",
    "    where the clade moves into Washington, leaves Washington, and then strains within that clade\n",
    "    return to seattle (this scenario would make 2 separate subtrees, even though they are nested).\n",
    "    If that behavior is not desired, the returned list must be pruned out of any trees that have an\n",
    "    intersection of internal nodes.\n",
    "    \"\"\"\n",
    "    subtrees_list = []\n",
    "    for k in sorted(baltic_tree.Objects, key = lambda x:x.height):\n",
    "        parent = k.parent\n",
    "        k_division = k.traits['division']\n",
    "        parent_division = k.parent.traits['division']\n",
    "        if k_division != parent_division and k_division == 'Washington':\n",
    "            washington_subtree = baltic_tree.subtree(k)\n",
    "            subtrees_list.append(washington_subtree)\n",
    "    return subtrees_list"
   ]
  },
  {
   "cell_type": "code",
   "execution_count": 98,
   "metadata": {},
   "outputs": [],
   "source": [
    "def extract_washington_subtrees(baltic_tree):\n",
    "    \"\"\"\n",
    "    Code taken from Seattle Flu Augur Build. Function takes in a baltic tree object and returns a list of baltic tree objects.\n",
    "    Each returned tree object represents a point in the tree in which the tree moved from\n",
    "    a non-seattle deme into seattle. Note that this will return sub-sub trees, e.g.\n",
    "    where the clade moves into Washington, leaves Washington, and then strains within that clade\n",
    "    return to seattle (this scenario would make 2 separate subtrees, even though they are nested).\n",
    "    If that behavior is not desired, the returned list must be pruned out of any trees that have an\n",
    "    intersection of internal nodes.\n",
    "    \"\"\"\n",
    "    subtrees_list = []\n",
    "    for k in sorted(baltic_tree.Objects, key = lambda x:x.height):\n",
    "        parent = k.parent\n",
    "        if 'division' in k.traits:\n",
    "            print(k.traits)\n",
    "            k_division = k.traits['division']\n",
    "            parent_division = k.parent.traits['division']\n",
    "            if k_division != parent_division and k_division == 'Washington':\n",
    "                washington_subtree = baltic_tree.subtree(k)\n",
    "                subtrees_list.append(washington_subtree)\n",
    "    return subtrees_list"
   ]
  },
  {
   "cell_type": "code",
   "execution_count": 99,
   "metadata": {},
   "outputs": [
    {
     "name": "stdout",
     "output_type": "stream",
     "text": [
      "{'branch_attrs': {'labels': {'aa': 'ORF1a: N2708S, F2908I'}, 'mutations': {'ORF1a': ['N2708S', 'F2908I'], 'nuc': ['A3778G', 'A8388G', 'T8987A']}}, 'name': 'Wuhan/IPBCAMS-WH-01/2019', 'node_attrs': {'age': {'value': '65'}, 'author': {'author': 'Lili Ren et al', 'value': 'Lili Ren et al A'}, 'clade_membership': {'value': '19A'}, 'country': {'confidence': {'China': 1.0}, 'entropy': -1.000088900581841e-12, 'value': 'China'}, 'div': 2.9420536960932986, 'division': {'value': 'Hubei'}, 'division_exposure': {'value': 'Hubei'}, 'genbank_accession': {'value': 'MT019529'}, 'gisaid_epi_isl': {'value': 'EPI_ISL_402123'}, 'host': {'value': 'Human'}, 'legacy_clade_membership': {'value': 'unassigned'}, 'location': {'value': 'Wuhan'}, 'num_date': {'confidence': [2019.9794520547946, 2019.9794520547946], 'value': 2019.9794520547946}, 'originating_lab': {'value': 'Institute of Pathogen Biology, Chinese Academy of Medical Sciences & Peking Union Medical College'}, 'recency': {'value': 'Older'}, 'region': {'value': 'Asia'}, 'region_exposure': {'value': 'Asia'}, 'sex': {'value': 'Male'}, 'subclade_membership': {'value': '19A'}, 'submitting_lab': {'value': 'Institute of Pathogen Biology, Chinese Academy of Medical Sciences & Peking Union Medical College'}, 'url': 'https://www.gisaid.org'}, 'age': '65', 'author': 'Lili Ren et al A', 'clade_membership': '19A', 'country': 'China', 'country_confidence': {'China': 1.0}, 'divergence': 2.9420536960932986, 'division': 'Hubei', 'division_exposure': 'Hubei', 'genbank_accession': 'MT019529', 'gisaid_epi_isl': 'EPI_ISL_402123', 'host': 'Human', 'legacy_clade_membership': 'unassigned', 'location': 'Wuhan', 'num_date': 2019.9794520547946, 'num_date_confidence': [2019.9794520547946, 2019.9794520547946], 'originating_lab': 'Institute of Pathogen Biology, Chinese Academy of Medical Sciences & Peking Union Medical College', 'recency': 'Older', 'region': 'Asia', 'region_exposure': 'Asia', 'sex': 'Male', 'subclade_membership': '19A', 'submitting_lab': 'Institute of Pathogen Biology, Chinese Academy of Medical Sciences & Peking Union Medical College'}\n"
     ]
    },
    {
     "ename": "KeyError",
     "evalue": "'division'",
     "output_type": "error",
     "traceback": [
      "\u001b[0;31m---------------------------------------------------------------------------\u001b[0m",
      "\u001b[0;31mKeyError\u001b[0m                                  Traceback (most recent call last)",
      "\u001b[0;32m<ipython-input-99-42f24c2111c4>\u001b[0m in \u001b[0;36m<module>\u001b[0;34m\u001b[0m\n\u001b[0;32m----> 1\u001b[0;31m \u001b[0mtrees\u001b[0m \u001b[0;34m=\u001b[0m \u001b[0mextract_washington_subtrees\u001b[0m\u001b[0;34m(\u001b[0m\u001b[0mtree\u001b[0m\u001b[0;34m)\u001b[0m\u001b[0;34m\u001b[0m\u001b[0;34m\u001b[0m\u001b[0m\n\u001b[0m\u001b[1;32m      2\u001b[0m \u001b[0mwa_subtrees\u001b[0m \u001b[0;34m=\u001b[0m \u001b[0mget_basal_subtree\u001b[0m\u001b[0;34m(\u001b[0m\u001b[0mtrees\u001b[0m\u001b[0;34m)\u001b[0m\u001b[0;34m\u001b[0m\u001b[0;34m\u001b[0m\u001b[0m\n",
      "\u001b[0;32m<ipython-input-98-0f48af9d4913>\u001b[0m in \u001b[0;36mextract_washington_subtrees\u001b[0;34m(baltic_tree)\u001b[0m\n\u001b[1;32m     15\u001b[0m             \u001b[0mprint\u001b[0m\u001b[0;34m(\u001b[0m\u001b[0mk\u001b[0m\u001b[0;34m.\u001b[0m\u001b[0mtraits\u001b[0m\u001b[0;34m)\u001b[0m\u001b[0;34m\u001b[0m\u001b[0;34m\u001b[0m\u001b[0m\n\u001b[1;32m     16\u001b[0m             \u001b[0mk_division\u001b[0m \u001b[0;34m=\u001b[0m \u001b[0mk\u001b[0m\u001b[0;34m.\u001b[0m\u001b[0mtraits\u001b[0m\u001b[0;34m[\u001b[0m\u001b[0;34m'division'\u001b[0m\u001b[0;34m]\u001b[0m\u001b[0;34m\u001b[0m\u001b[0;34m\u001b[0m\u001b[0m\n\u001b[0;32m---> 17\u001b[0;31m             \u001b[0mparent_division\u001b[0m \u001b[0;34m=\u001b[0m \u001b[0mk\u001b[0m\u001b[0;34m.\u001b[0m\u001b[0mparent\u001b[0m\u001b[0;34m.\u001b[0m\u001b[0mtraits\u001b[0m\u001b[0;34m[\u001b[0m\u001b[0;34m'division'\u001b[0m\u001b[0;34m]\u001b[0m\u001b[0;34m\u001b[0m\u001b[0;34m\u001b[0m\u001b[0m\n\u001b[0m\u001b[1;32m     18\u001b[0m             \u001b[0;32mif\u001b[0m \u001b[0mk_division\u001b[0m \u001b[0;34m!=\u001b[0m \u001b[0mparent_division\u001b[0m \u001b[0;32mand\u001b[0m \u001b[0mk_division\u001b[0m \u001b[0;34m==\u001b[0m \u001b[0;34m'Washington'\u001b[0m\u001b[0;34m:\u001b[0m\u001b[0;34m\u001b[0m\u001b[0;34m\u001b[0m\u001b[0m\n\u001b[1;32m     19\u001b[0m                 \u001b[0mwashington_subtree\u001b[0m \u001b[0;34m=\u001b[0m \u001b[0mbaltic_tree\u001b[0m\u001b[0;34m.\u001b[0m\u001b[0msubtree\u001b[0m\u001b[0;34m(\u001b[0m\u001b[0mk\u001b[0m\u001b[0;34m)\u001b[0m\u001b[0;34m\u001b[0m\u001b[0;34m\u001b[0m\u001b[0m\n",
      "\u001b[0;31mKeyError\u001b[0m: 'division'"
     ]
    }
   ],
   "source": [
    "trees = extract_washington_subtrees(tree)\n",
    "wa_subtrees = get_basal_subtree(trees)"
   ]
  },
  {
   "cell_type": "code",
   "execution_count": null,
   "metadata": {},
   "outputs": [],
   "source": []
  }
 ],
 "metadata": {
  "kernelspec": {
   "display_name": "nextstrain",
   "language": "python",
   "name": "nextstrain"
  },
  "language_info": {
   "codemirror_mode": {
    "name": "ipython",
    "version": 3
   },
   "file_extension": ".py",
   "mimetype": "text/x-python",
   "name": "python",
   "nbconvert_exporter": "python",
   "pygments_lexer": "ipython3",
   "version": "3.6.12"
  }
 },
 "nbformat": 4,
 "nbformat_minor": 4
}
