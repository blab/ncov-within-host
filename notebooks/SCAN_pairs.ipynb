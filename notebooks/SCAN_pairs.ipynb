{
 "cells": [
  {
   "cell_type": "markdown",
   "metadata": {},
   "source": [
    "# Shared iSNVs in SCAN transmission pairs\n",
    "\n",
    "This notebook examines iSNVs in 8 SCAN transmission pairs.\n",
    "\n",
    "Transmission pairs were identified by looking at all SCAN samples, finding samples from the same household, and eliminating household in which all samples had a symptom onset date within a day or two of each other.\n",
    "If samples lacked a symptom onset date, they were not eliminated at this stage. For households with greater than 2 samples, symptom onset & the phylogenetic tree were used to construct transmission pairs. Note: It's possible for one sample to be part of more than one transmission pair because one person could have infected two individuals."
   ]
  },
  {
   "cell_type": "code",
   "execution_count": 97,
   "metadata": {},
   "outputs": [],
   "source": [
    "import pandas as pd\n",
    "import seaborn as sns\n",
    "import matplotlib.pyplot as plt\n",
    "from scipy import stats\n",
    "import numpy as np"
   ]
  },
  {
   "cell_type": "code",
   "execution_count": 106,
   "metadata": {},
   "outputs": [],
   "source": [
    "def load_df(file):\n",
    "    '''\n",
    "    Loads metadata tsv as df.\n",
    "    '''\n",
    "    with open(file) as tfile:\n",
    "        df = pd.read_csv(tfile, sep = '\\t')\n",
    "        if 'nwgc_id' in df.columns:\n",
    "            df['nwgc_id'] = df.nwgc_id.astype('str')\n",
    "            \n",
    "        if 'position' and 'variant' in df.columns:\n",
    "            df = df[df['variant'].map(len) < 2]\n",
    "            df['snv'] = df[['genome', 'position', 'variant']].apply(\n",
    "                lambda x: ''.join(x.dropna().astype(str)),\n",
    "                axis=1)\n",
    "    return df\n",
    "\n",
    "pairs_snvs = load_df('../results/snvs_scan-new_pairs.tsv')\n",
    "pairs_meta = load_df('../results/metadata_scan-new_pairs.tsv')"
   ]
  },
  {
   "cell_type": "code",
   "execution_count": 107,
   "metadata": {},
   "outputs": [
    {
     "data": {
      "text/html": [
       "<div>\n",
       "<style scoped>\n",
       "    .dataframe tbody tr th:only-of-type {\n",
       "        vertical-align: middle;\n",
       "    }\n",
       "\n",
       "    .dataframe tbody tr th {\n",
       "        vertical-align: top;\n",
       "    }\n",
       "\n",
       "    .dataframe thead th {\n",
       "        text-align: right;\n",
       "    }\n",
       "</style>\n",
       "<table border=\"1\" class=\"dataframe\">\n",
       "  <thead>\n",
       "    <tr style=\"text-align: right;\">\n",
       "      <th></th>\n",
       "      <th>strain</th>\n",
       "      <th>nwgc_id</th>\n",
       "      <th>position</th>\n",
       "      <th>variant</th>\n",
       "      <th>genome</th>\n",
       "      <th>protein</th>\n",
       "      <th>aa_position</th>\n",
       "      <th>aa_variant</th>\n",
       "      <th>aa_genome</th>\n",
       "      <th>mut_type</th>\n",
       "      <th>...</th>\n",
       "      <th>frequency</th>\n",
       "      <th>origin</th>\n",
       "      <th>batch</th>\n",
       "      <th>resolution</th>\n",
       "      <th>address_identifier</th>\n",
       "      <th>avg_ct</th>\n",
       "      <th>notes</th>\n",
       "      <th>age</th>\n",
       "      <th>date</th>\n",
       "      <th>snv</th>\n",
       "    </tr>\n",
       "  </thead>\n",
       "  <tbody>\n",
       "    <tr>\n",
       "      <th>0</th>\n",
       "      <td>USA/WA-S2734/2020</td>\n",
       "      <td>444501</td>\n",
       "      <td>106</td>\n",
       "      <td>T</td>\n",
       "      <td>C</td>\n",
       "      <td>5'UTR</td>\n",
       "      <td>NaN</td>\n",
       "      <td>NaN</td>\n",
       "      <td>NaN</td>\n",
       "      <td>NC</td>\n",
       "      <td>...</td>\n",
       "      <td>0.418803</td>\n",
       "      <td>scan</td>\n",
       "      <td>20200831_fastq</td>\n",
       "      <td>pair</td>\n",
       "      <td>15dd9abf1dc89c1c8ddbc7797182d04de9515cf599a6be...</td>\n",
       "      <td>28.333208</td>\n",
       "      <td>gave to both, identical</td>\n",
       "      <td>52.08</td>\n",
       "      <td>2020-07-13</td>\n",
       "      <td>C106T</td>\n",
       "    </tr>\n",
       "    <tr>\n",
       "      <th>2</th>\n",
       "      <td>USA/WA-S2734/2020</td>\n",
       "      <td>444501</td>\n",
       "      <td>529</td>\n",
       "      <td>T</td>\n",
       "      <td>G</td>\n",
       "      <td>ORF1a</td>\n",
       "      <td>88</td>\n",
       "      <td>L</td>\n",
       "      <td>L</td>\n",
       "      <td>S</td>\n",
       "      <td>...</td>\n",
       "      <td>0.089947</td>\n",
       "      <td>scan</td>\n",
       "      <td>20200831_fastq</td>\n",
       "      <td>pair</td>\n",
       "      <td>15dd9abf1dc89c1c8ddbc7797182d04de9515cf599a6be...</td>\n",
       "      <td>28.333208</td>\n",
       "      <td>gave to both, identical</td>\n",
       "      <td>52.08</td>\n",
       "      <td>2020-07-13</td>\n",
       "      <td>G529T</td>\n",
       "    </tr>\n",
       "    <tr>\n",
       "      <th>3</th>\n",
       "      <td>USA/WA-S2734/2020</td>\n",
       "      <td>444501</td>\n",
       "      <td>736</td>\n",
       "      <td>C</td>\n",
       "      <td>T</td>\n",
       "      <td>ORF1a</td>\n",
       "      <td>157</td>\n",
       "      <td>F</td>\n",
       "      <td>F</td>\n",
       "      <td>S</td>\n",
       "      <td>...</td>\n",
       "      <td>0.116022</td>\n",
       "      <td>scan</td>\n",
       "      <td>20200831_fastq</td>\n",
       "      <td>pair</td>\n",
       "      <td>15dd9abf1dc89c1c8ddbc7797182d04de9515cf599a6be...</td>\n",
       "      <td>28.333208</td>\n",
       "      <td>gave to both, identical</td>\n",
       "      <td>52.08</td>\n",
       "      <td>2020-07-13</td>\n",
       "      <td>T736C</td>\n",
       "    </tr>\n",
       "    <tr>\n",
       "      <th>4</th>\n",
       "      <td>USA/WA-S2734/2020</td>\n",
       "      <td>444501</td>\n",
       "      <td>741</td>\n",
       "      <td>G</td>\n",
       "      <td>A</td>\n",
       "      <td>ORF1a</td>\n",
       "      <td>159</td>\n",
       "      <td>G</td>\n",
       "      <td>E</td>\n",
       "      <td>NS</td>\n",
       "      <td>...</td>\n",
       "      <td>0.162011</td>\n",
       "      <td>scan</td>\n",
       "      <td>20200831_fastq</td>\n",
       "      <td>pair</td>\n",
       "      <td>15dd9abf1dc89c1c8ddbc7797182d04de9515cf599a6be...</td>\n",
       "      <td>28.333208</td>\n",
       "      <td>gave to both, identical</td>\n",
       "      <td>52.08</td>\n",
       "      <td>2020-07-13</td>\n",
       "      <td>A741G</td>\n",
       "    </tr>\n",
       "    <tr>\n",
       "      <th>5</th>\n",
       "      <td>USA/WA-S2734/2020</td>\n",
       "      <td>444501</td>\n",
       "      <td>801</td>\n",
       "      <td>T</td>\n",
       "      <td>G</td>\n",
       "      <td>ORF1a</td>\n",
       "      <td>179</td>\n",
       "      <td>V</td>\n",
       "      <td>G</td>\n",
       "      <td>NS</td>\n",
       "      <td>...</td>\n",
       "      <td>0.118421</td>\n",
       "      <td>scan</td>\n",
       "      <td>20200831_fastq</td>\n",
       "      <td>pair</td>\n",
       "      <td>15dd9abf1dc89c1c8ddbc7797182d04de9515cf599a6be...</td>\n",
       "      <td>28.333208</td>\n",
       "      <td>gave to both, identical</td>\n",
       "      <td>52.08</td>\n",
       "      <td>2020-07-13</td>\n",
       "      <td>G801T</td>\n",
       "    </tr>\n",
       "    <tr>\n",
       "      <th>...</th>\n",
       "      <td>...</td>\n",
       "      <td>...</td>\n",
       "      <td>...</td>\n",
       "      <td>...</td>\n",
       "      <td>...</td>\n",
       "      <td>...</td>\n",
       "      <td>...</td>\n",
       "      <td>...</td>\n",
       "      <td>...</td>\n",
       "      <td>...</td>\n",
       "      <td>...</td>\n",
       "      <td>...</td>\n",
       "      <td>...</td>\n",
       "      <td>...</td>\n",
       "      <td>...</td>\n",
       "      <td>...</td>\n",
       "      <td>...</td>\n",
       "      <td>...</td>\n",
       "      <td>...</td>\n",
       "      <td>...</td>\n",
       "      <td>...</td>\n",
       "    </tr>\n",
       "    <tr>\n",
       "      <th>3035</th>\n",
       "      <td>USA/WA-S595/2020</td>\n",
       "      <td>401503</td>\n",
       "      <td>26524</td>\n",
       "      <td>C</td>\n",
       "      <td>T</td>\n",
       "      <td>M</td>\n",
       "      <td>1</td>\n",
       "      <td>T</td>\n",
       "      <td>M</td>\n",
       "      <td>NS</td>\n",
       "      <td>...</td>\n",
       "      <td>0.010958</td>\n",
       "      <td>scan</td>\n",
       "      <td>20200511_fastq</td>\n",
       "      <td>pair</td>\n",
       "      <td>f95458a50e7c3ac0a9721aa348c8276470b5837f2545f2...</td>\n",
       "      <td>23.684280</td>\n",
       "      <td>+1 mutation</td>\n",
       "      <td>59.50</td>\n",
       "      <td>2020-04-12</td>\n",
       "      <td>T26524C</td>\n",
       "    </tr>\n",
       "    <tr>\n",
       "      <th>3037</th>\n",
       "      <td>USA/WA-S595/2020</td>\n",
       "      <td>401503</td>\n",
       "      <td>26600</td>\n",
       "      <td>T</td>\n",
       "      <td>C</td>\n",
       "      <td>M</td>\n",
       "      <td>26</td>\n",
       "      <td>F</td>\n",
       "      <td>F</td>\n",
       "      <td>S</td>\n",
       "      <td>...</td>\n",
       "      <td>0.019578</td>\n",
       "      <td>scan</td>\n",
       "      <td>20200511_fastq</td>\n",
       "      <td>pair</td>\n",
       "      <td>f95458a50e7c3ac0a9721aa348c8276470b5837f2545f2...</td>\n",
       "      <td>23.684280</td>\n",
       "      <td>+1 mutation</td>\n",
       "      <td>59.50</td>\n",
       "      <td>2020-04-12</td>\n",
       "      <td>C26600T</td>\n",
       "    </tr>\n",
       "    <tr>\n",
       "      <th>3039</th>\n",
       "      <td>USA/WA-S595/2020</td>\n",
       "      <td>401503</td>\n",
       "      <td>26919</td>\n",
       "      <td>T</td>\n",
       "      <td>C</td>\n",
       "      <td>M</td>\n",
       "      <td>133</td>\n",
       "      <td>F</td>\n",
       "      <td>L</td>\n",
       "      <td>NS</td>\n",
       "      <td>...</td>\n",
       "      <td>0.010183</td>\n",
       "      <td>scan</td>\n",
       "      <td>20200511_fastq</td>\n",
       "      <td>pair</td>\n",
       "      <td>f95458a50e7c3ac0a9721aa348c8276470b5837f2545f2...</td>\n",
       "      <td>23.684280</td>\n",
       "      <td>+1 mutation</td>\n",
       "      <td>59.50</td>\n",
       "      <td>2020-04-12</td>\n",
       "      <td>C26919T</td>\n",
       "    </tr>\n",
       "    <tr>\n",
       "      <th>3043</th>\n",
       "      <td>USA/WA-S595/2020</td>\n",
       "      <td>401503</td>\n",
       "      <td>27746</td>\n",
       "      <td>T</td>\n",
       "      <td>G</td>\n",
       "      <td>ORF7a</td>\n",
       "      <td>118</td>\n",
       "      <td>I</td>\n",
       "      <td>R</td>\n",
       "      <td>NS</td>\n",
       "      <td>...</td>\n",
       "      <td>0.012137</td>\n",
       "      <td>scan</td>\n",
       "      <td>20200511_fastq</td>\n",
       "      <td>pair</td>\n",
       "      <td>f95458a50e7c3ac0a9721aa348c8276470b5837f2545f2...</td>\n",
       "      <td>23.684280</td>\n",
       "      <td>+1 mutation</td>\n",
       "      <td>59.50</td>\n",
       "      <td>2020-04-12</td>\n",
       "      <td>G27746T</td>\n",
       "    </tr>\n",
       "    <tr>\n",
       "      <th>3061</th>\n",
       "      <td>USA/WA-S595/2020</td>\n",
       "      <td>401503</td>\n",
       "      <td>29865</td>\n",
       "      <td>G</td>\n",
       "      <td>A</td>\n",
       "      <td>3'UTR</td>\n",
       "      <td>NaN</td>\n",
       "      <td>NaN</td>\n",
       "      <td>NaN</td>\n",
       "      <td>NC</td>\n",
       "      <td>...</td>\n",
       "      <td>0.016272</td>\n",
       "      <td>scan</td>\n",
       "      <td>20200511_fastq</td>\n",
       "      <td>pair</td>\n",
       "      <td>f95458a50e7c3ac0a9721aa348c8276470b5837f2545f2...</td>\n",
       "      <td>23.684280</td>\n",
       "      <td>+1 mutation</td>\n",
       "      <td>59.50</td>\n",
       "      <td>2020-04-12</td>\n",
       "      <td>A29865G</td>\n",
       "    </tr>\n",
       "  </tbody>\n",
       "</table>\n",
       "<p>1115 rows × 22 columns</p>\n",
       "</div>"
      ],
      "text/plain": [
       "                 strain nwgc_id  position variant genome protein aa_position  \\\n",
       "0     USA/WA-S2734/2020  444501       106       T      C   5'UTR         NaN   \n",
       "2     USA/WA-S2734/2020  444501       529       T      G   ORF1a          88   \n",
       "3     USA/WA-S2734/2020  444501       736       C      T   ORF1a         157   \n",
       "4     USA/WA-S2734/2020  444501       741       G      A   ORF1a         159   \n",
       "5     USA/WA-S2734/2020  444501       801       T      G   ORF1a         179   \n",
       "...                 ...     ...       ...     ...    ...     ...         ...   \n",
       "3035   USA/WA-S595/2020  401503     26524       C      T       M           1   \n",
       "3037   USA/WA-S595/2020  401503     26600       T      C       M          26   \n",
       "3039   USA/WA-S595/2020  401503     26919       T      C       M         133   \n",
       "3043   USA/WA-S595/2020  401503     27746       T      G   ORF7a         118   \n",
       "3061   USA/WA-S595/2020  401503     29865       G      A   3'UTR         NaN   \n",
       "\n",
       "     aa_variant aa_genome mut_type  ... frequency  origin           batch  \\\n",
       "0           NaN       NaN       NC  ...  0.418803    scan  20200831_fastq   \n",
       "2             L         L        S  ...  0.089947    scan  20200831_fastq   \n",
       "3             F         F        S  ...  0.116022    scan  20200831_fastq   \n",
       "4             G         E       NS  ...  0.162011    scan  20200831_fastq   \n",
       "5             V         G       NS  ...  0.118421    scan  20200831_fastq   \n",
       "...         ...       ...      ...  ...       ...     ...             ...   \n",
       "3035          T         M       NS  ...  0.010958    scan  20200511_fastq   \n",
       "3037          F         F        S  ...  0.019578    scan  20200511_fastq   \n",
       "3039          F         L       NS  ...  0.010183    scan  20200511_fastq   \n",
       "3043          I         R       NS  ...  0.012137    scan  20200511_fastq   \n",
       "3061        NaN       NaN       NC  ...  0.016272    scan  20200511_fastq   \n",
       "\n",
       "     resolution                                 address_identifier     avg_ct  \\\n",
       "0          pair  15dd9abf1dc89c1c8ddbc7797182d04de9515cf599a6be...  28.333208   \n",
       "2          pair  15dd9abf1dc89c1c8ddbc7797182d04de9515cf599a6be...  28.333208   \n",
       "3          pair  15dd9abf1dc89c1c8ddbc7797182d04de9515cf599a6be...  28.333208   \n",
       "4          pair  15dd9abf1dc89c1c8ddbc7797182d04de9515cf599a6be...  28.333208   \n",
       "5          pair  15dd9abf1dc89c1c8ddbc7797182d04de9515cf599a6be...  28.333208   \n",
       "...         ...                                                ...        ...   \n",
       "3035       pair  f95458a50e7c3ac0a9721aa348c8276470b5837f2545f2...  23.684280   \n",
       "3037       pair  f95458a50e7c3ac0a9721aa348c8276470b5837f2545f2...  23.684280   \n",
       "3039       pair  f95458a50e7c3ac0a9721aa348c8276470b5837f2545f2...  23.684280   \n",
       "3043       pair  f95458a50e7c3ac0a9721aa348c8276470b5837f2545f2...  23.684280   \n",
       "3061       pair  f95458a50e7c3ac0a9721aa348c8276470b5837f2545f2...  23.684280   \n",
       "\n",
       "                        notes    age        date      snv  \n",
       "0     gave to both, identical  52.08  2020-07-13    C106T  \n",
       "2     gave to both, identical  52.08  2020-07-13    G529T  \n",
       "3     gave to both, identical  52.08  2020-07-13    T736C  \n",
       "4     gave to both, identical  52.08  2020-07-13    A741G  \n",
       "5     gave to both, identical  52.08  2020-07-13    G801T  \n",
       "...                       ...    ...         ...      ...  \n",
       "3035              +1 mutation  59.50  2020-04-12  T26524C  \n",
       "3037              +1 mutation  59.50  2020-04-12  C26600T  \n",
       "3039              +1 mutation  59.50  2020-04-12  C26919T  \n",
       "3043              +1 mutation  59.50  2020-04-12  G27746T  \n",
       "3061              +1 mutation  59.50  2020-04-12  A29865G  \n",
       "\n",
       "[1115 rows x 22 columns]"
      ]
     },
     "execution_count": 107,
     "metadata": {},
     "output_type": "execute_result"
    }
   ],
   "source": [
    "pairs_snvs"
   ]
  },
  {
   "cell_type": "markdown",
   "metadata": {},
   "source": [
    "## How many SNVs per sample?"
   ]
  },
  {
   "cell_type": "code",
   "execution_count": 108,
   "metadata": {},
   "outputs": [
    {
     "data": {
      "text/plain": [
       "<seaborn.axisgrid.FacetGrid at 0x7f4688837dd8>"
      ]
     },
     "execution_count": 108,
     "metadata": {},
     "output_type": "execute_result"
    },
    {
     "data": {
      "image/png": "[encoded data removed]",
      "text/plain": [
       "<Figure size 360x360 with 1 Axes>"
      ]
     },
     "metadata": {
      "needs_background": "light"
     },
     "output_type": "display_data"
    }
   ],
   "source": [
    "sns.displot(pairs_meta, x='n_snvs', element='step')"
   ]
  },
  {
   "cell_type": "code",
   "execution_count": 5,
   "metadata": {},
   "outputs": [
    {
     "data": {
      "text/plain": [
       "RanksumsResult(statistic=0.46188021535170054, pvalue=0.6441672226837103)"
      ]
     },
     "execution_count": 5,
     "metadata": {},
     "output_type": "execute_result"
    }
   ],
   "source": [
    "stats.ranksums(pairs_meta.loc[pairs_meta.pair_type == 'household', 'n_snvs'], pairs_meta.loc[pairs_meta.pair_type == 'random', 'n_snvs'])"
   ]
  },
  {
   "cell_type": "markdown",
   "metadata": {},
   "source": [
    "iSNVs per sample in Household pairs"
   ]
  },
  {
   "cell_type": "code",
   "execution_count": 6,
   "metadata": {},
   "outputs": [
    {
     "name": "stdout",
     "output_type": "stream",
     "text": [
      "8\n",
      "193\n",
      "26.5\n"
     ]
    }
   ],
   "source": [
    "print(pairs_meta.loc[pairs_meta.pair_type == 'household', 'n_snvs'].min())\n",
    "print(pairs_meta.loc[pairs_meta.pair_type == 'household', 'n_snvs'].max())\n",
    "print(pairs_meta.loc[pairs_meta.pair_type == 'household', 'n_snvs'].median())"
   ]
  },
  {
   "cell_type": "markdown",
   "metadata": {},
   "source": [
    "iSNVs per sample in Random pairs"
   ]
  },
  {
   "cell_type": "code",
   "execution_count": 7,
   "metadata": {},
   "outputs": [
    {
     "name": "stdout",
     "output_type": "stream",
     "text": [
      "5\n",
      "119\n",
      "16.5\n"
     ]
    }
   ],
   "source": [
    "print(pairs_meta.loc[pairs_meta.pair_type == 'random', 'n_snvs'].min())\n",
    "print(pairs_meta.loc[pairs_meta.pair_type == 'random', 'n_snvs'].max())\n",
    "print(pairs_meta.loc[pairs_meta.pair_type == 'random', 'n_snvs'].median())"
   ]
  },
  {
   "cell_type": "markdown",
   "metadata": {},
   "source": [
    "## What is the distribution of iSNVs frequency?"
   ]
  },
  {
   "cell_type": "code",
   "execution_count": 8,
   "metadata": {},
   "outputs": [
    {
     "data": {
      "text/plain": [
       "<seaborn.axisgrid.FacetGrid at 0x7f468cee6208>"
      ]
     },
     "execution_count": 8,
     "metadata": {},
     "output_type": "execute_result"
    },
    {
     "data": {
      "image/png": "[encoded data removed]",
      "text/plain": [
       "<Figure size 447.75x360 with 1 Axes>"
      ]
     },
     "metadata": {
      "needs_background": "light"
     },
     "output_type": "display_data"
    }
   ],
   "source": [
    "ax = sns.displot(pairs_snvs, x='frequency', hue='pair_type', stat='probability', common_norm=False, element='step')\n",
    "ax.set(ylabel='Proportion', xlabel='Frequency of iSNV')"
   ]
  },
  {
   "cell_type": "code",
   "execution_count": 9,
   "metadata": {},
   "outputs": [
    {
     "data": {
      "text/plain": [
       "RanksumsResult(statistic=-0.8283043911374233, pvalue=0.40749813665188417)"
      ]
     },
     "execution_count": 9,
     "metadata": {},
     "output_type": "execute_result"
    }
   ],
   "source": [
    "stats.ranksums(pairs_snvs.loc[pairs_snvs.pair_type == 'household', 'frequency'], pairs_snvs.loc[pairs_snvs.pair_type == 'random', 'frequency'])"
   ]
  },
  {
   "cell_type": "markdown",
   "metadata": {},
   "source": [
    "Frequency of iSNVs in Household pairs"
   ]
  },
  {
   "cell_type": "code",
   "execution_count": 10,
   "metadata": {},
   "outputs": [
    {
     "name": "stdout",
     "output_type": "stream",
     "text": [
      "0.010008963250672244\n",
      "0.4356435643564357\n",
      "0.019445878961340632\n"
     ]
    }
   ],
   "source": [
    "print(pairs_snvs.loc[pairs_snvs.pair_type == 'household', 'frequency'].min())\n",
    "print(pairs_snvs.loc[pairs_snvs.pair_type == 'household', 'frequency'].max())\n",
    "print(pairs_snvs.loc[pairs_snvs.pair_type == 'household', 'frequency'].median())"
   ]
  },
  {
   "cell_type": "markdown",
   "metadata": {},
   "source": [
    "Frequency of iSNVs in Random pairs"
   ]
  },
  {
   "cell_type": "code",
   "execution_count": 11,
   "metadata": {},
   "outputs": [
    {
     "name": "stdout",
     "output_type": "stream",
     "text": [
      "0.010004001600640256\n",
      "0.3217922606924644\n",
      "0.019941132916089184\n"
     ]
    }
   ],
   "source": [
    "print(pairs_snvs.loc[pairs_snvs.pair_type == 'random', 'frequency'].min())\n",
    "print(pairs_snvs.loc[pairs_snvs.pair_type == 'random', 'frequency'].max())\n",
    "print(pairs_snvs.loc[pairs_snvs.pair_type == 'random', 'frequency'].median())"
   ]
  },
  {
   "cell_type": "markdown",
   "metadata": {},
   "source": [
    "## What types of mutations are the variants?"
   ]
  },
  {
   "cell_type": "code",
   "execution_count": 101,
   "metadata": {},
   "outputs": [
    {
     "ename": "ValueError",
     "evalue": "Could not interpret value `pair_type` for parameter `hue`",
     "output_type": "error",
     "traceback": [
      "\u001b[0;31m---------------------------------------------------------------------------\u001b[0m",
      "\u001b[0;31mValueError\u001b[0m                                Traceback (most recent call last)",
      "\u001b[0;32m<ipython-input-101-dbfd0619cb0d>\u001b[0m in \u001b[0;36m<module>\u001b[0;34m\u001b[0m\n\u001b[1;32m      2\u001b[0m \u001b[0mpairs_snvs\u001b[0m\u001b[0;34m[\u001b[0m\u001b[0;34m'mut_type'\u001b[0m\u001b[0;34m]\u001b[0m \u001b[0;34m=\u001b[0m \u001b[0mpairs_snvs\u001b[0m\u001b[0;34m.\u001b[0m\u001b[0mmut_type\u001b[0m\u001b[0;34m.\u001b[0m\u001b[0mreplace\u001b[0m\u001b[0;34m(\u001b[0m\u001b[0mto_replace\u001b[0m\u001b[0;34m=\u001b[0m\u001b[0;34m'NC'\u001b[0m\u001b[0;34m,\u001b[0m \u001b[0mvalue\u001b[0m\u001b[0;34m=\u001b[0m\u001b[0;34m'S'\u001b[0m\u001b[0;34m)\u001b[0m\u001b[0;34m\u001b[0m\u001b[0;34m\u001b[0m\u001b[0m\n\u001b[1;32m      3\u001b[0m \u001b[0;34m\u001b[0m\u001b[0m\n\u001b[0;32m----> 4\u001b[0;31m \u001b[0max\u001b[0m \u001b[0;34m=\u001b[0m \u001b[0msns\u001b[0m\u001b[0;34m.\u001b[0m\u001b[0mdisplot\u001b[0m\u001b[0;34m(\u001b[0m\u001b[0mpairs_snvs\u001b[0m\u001b[0;34m,\u001b[0m \u001b[0mx\u001b[0m\u001b[0;34m=\u001b[0m\u001b[0;34m'mut_type'\u001b[0m\u001b[0;34m,\u001b[0m \u001b[0mhue\u001b[0m\u001b[0;34m=\u001b[0m\u001b[0;34m'pair_type'\u001b[0m\u001b[0;34m,\u001b[0m \u001b[0mstat\u001b[0m\u001b[0;34m=\u001b[0m\u001b[0;34m'probability'\u001b[0m\u001b[0;34m,\u001b[0m \u001b[0mcommon_norm\u001b[0m\u001b[0;34m=\u001b[0m\u001b[0;32mFalse\u001b[0m\u001b[0;34m,\u001b[0m \u001b[0mmultiple\u001b[0m\u001b[0;34m=\u001b[0m\u001b[0;34m'dodge'\u001b[0m\u001b[0;34m)\u001b[0m\u001b[0;34m\u001b[0m\u001b[0;34m\u001b[0m\u001b[0m\n\u001b[0m\u001b[1;32m      5\u001b[0m \u001b[0max\u001b[0m\u001b[0;34m.\u001b[0m\u001b[0mset\u001b[0m\u001b[0;34m(\u001b[0m\u001b[0mylabel\u001b[0m\u001b[0;34m=\u001b[0m\u001b[0;34m'Proportion'\u001b[0m\u001b[0;34m,\u001b[0m \u001b[0mxlabel\u001b[0m\u001b[0;34m=\u001b[0m\u001b[0;34m'Type of mutation'\u001b[0m\u001b[0;34m)\u001b[0m\u001b[0;34m\u001b[0m\u001b[0;34m\u001b[0m\u001b[0m\n",
      "\u001b[0;32m~/miniconda3/envs/nextstrain/lib/python3.6/site-packages/seaborn/distributions.py\u001b[0m in \u001b[0;36mdisplot\u001b[0;34m(data, x, y, hue, row, col, weights, kind, rug, rug_kws, log_scale, legend, palette, hue_order, hue_norm, color, col_wrap, row_order, col_order, height, aspect, facet_kws, **kwargs)\u001b[0m\n\u001b[1;32m   2146\u001b[0m     p = _DistributionFacetPlotter(\n\u001b[1;32m   2147\u001b[0m         \u001b[0mdata\u001b[0m\u001b[0;34m=\u001b[0m\u001b[0mdata\u001b[0m\u001b[0;34m,\u001b[0m\u001b[0;34m\u001b[0m\u001b[0;34m\u001b[0m\u001b[0m\n\u001b[0;32m-> 2148\u001b[0;31m         \u001b[0mvariables\u001b[0m\u001b[0;34m=\u001b[0m\u001b[0m_DistributionFacetPlotter\u001b[0m\u001b[0;34m.\u001b[0m\u001b[0mget_semantics\u001b[0m\u001b[0;34m(\u001b[0m\u001b[0mlocals\u001b[0m\u001b[0;34m(\u001b[0m\u001b[0;34m)\u001b[0m\u001b[0;34m)\u001b[0m\u001b[0;34m\u001b[0m\u001b[0;34m\u001b[0m\u001b[0m\n\u001b[0m\u001b[1;32m   2149\u001b[0m     )\n\u001b[1;32m   2150\u001b[0m \u001b[0;34m\u001b[0m\u001b[0m\n",
      "\u001b[0;32m~/miniconda3/envs/nextstrain/lib/python3.6/site-packages/seaborn/distributions.py\u001b[0m in \u001b[0;36m__init__\u001b[0;34m(self, data, variables)\u001b[0m\n\u001b[1;32m    106\u001b[0m     ):\n\u001b[1;32m    107\u001b[0m \u001b[0;34m\u001b[0m\u001b[0m\n\u001b[0;32m--> 108\u001b[0;31m         \u001b[0msuper\u001b[0m\u001b[0;34m(\u001b[0m\u001b[0;34m)\u001b[0m\u001b[0;34m.\u001b[0m\u001b[0m__init__\u001b[0m\u001b[0;34m(\u001b[0m\u001b[0mdata\u001b[0m\u001b[0;34m=\u001b[0m\u001b[0mdata\u001b[0m\u001b[0;34m,\u001b[0m \u001b[0mvariables\u001b[0m\u001b[0;34m=\u001b[0m\u001b[0mvariables\u001b[0m\u001b[0;34m)\u001b[0m\u001b[0;34m\u001b[0m\u001b[0;34m\u001b[0m\u001b[0m\n\u001b[0m\u001b[1;32m    109\u001b[0m \u001b[0;34m\u001b[0m\u001b[0m\n\u001b[1;32m    110\u001b[0m     \u001b[0;34m@\u001b[0m\u001b[0mproperty\u001b[0m\u001b[0;34m\u001b[0m\u001b[0;34m\u001b[0m\u001b[0m\n",
      "\u001b[0;32m~/miniconda3/envs/nextstrain/lib/python3.6/site-packages/seaborn/_core.py\u001b[0m in \u001b[0;36m__init__\u001b[0;34m(self, data, variables)\u001b[0m\n\u001b[1;32m    602\u001b[0m     \u001b[0;32mdef\u001b[0m \u001b[0m__init__\u001b[0m\u001b[0;34m(\u001b[0m\u001b[0mself\u001b[0m\u001b[0;34m,\u001b[0m \u001b[0mdata\u001b[0m\u001b[0;34m=\u001b[0m\u001b[0;32mNone\u001b[0m\u001b[0;34m,\u001b[0m \u001b[0mvariables\u001b[0m\u001b[0;34m=\u001b[0m\u001b[0;34m{\u001b[0m\u001b[0;34m}\u001b[0m\u001b[0;34m)\u001b[0m\u001b[0;34m:\u001b[0m\u001b[0;34m\u001b[0m\u001b[0;34m\u001b[0m\u001b[0m\n\u001b[1;32m    603\u001b[0m \u001b[0;34m\u001b[0m\u001b[0m\n\u001b[0;32m--> 604\u001b[0;31m         \u001b[0mself\u001b[0m\u001b[0;34m.\u001b[0m\u001b[0massign_variables\u001b[0m\u001b[0;34m(\u001b[0m\u001b[0mdata\u001b[0m\u001b[0;34m,\u001b[0m \u001b[0mvariables\u001b[0m\u001b[0;34m)\u001b[0m\u001b[0;34m\u001b[0m\u001b[0;34m\u001b[0m\u001b[0m\n\u001b[0m\u001b[1;32m    605\u001b[0m \u001b[0;34m\u001b[0m\u001b[0m\n\u001b[1;32m    606\u001b[0m         \u001b[0;32mfor\u001b[0m \u001b[0mvar\u001b[0m\u001b[0;34m,\u001b[0m \u001b[0mcls\u001b[0m \u001b[0;32min\u001b[0m \u001b[0mself\u001b[0m\u001b[0;34m.\u001b[0m\u001b[0m_semantic_mappings\u001b[0m\u001b[0;34m.\u001b[0m\u001b[0mitems\u001b[0m\u001b[0;34m(\u001b[0m\u001b[0;34m)\u001b[0m\u001b[0;34m:\u001b[0m\u001b[0;34m\u001b[0m\u001b[0;34m\u001b[0m\u001b[0m\n",
      "\u001b[0;32m~/miniconda3/envs/nextstrain/lib/python3.6/site-packages/seaborn/_core.py\u001b[0m in \u001b[0;36massign_variables\u001b[0;34m(self, data, variables)\u001b[0m\n\u001b[1;32m    666\u001b[0m             \u001b[0mself\u001b[0m\u001b[0;34m.\u001b[0m\u001b[0minput_format\u001b[0m \u001b[0;34m=\u001b[0m \u001b[0;34m\"long\"\u001b[0m\u001b[0;34m\u001b[0m\u001b[0;34m\u001b[0m\u001b[0m\n\u001b[1;32m    667\u001b[0m             plot_data, variables = self._assign_variables_longform(\n\u001b[0;32m--> 668\u001b[0;31m                 \u001b[0mdata\u001b[0m\u001b[0;34m,\u001b[0m \u001b[0;34m**\u001b[0m\u001b[0mvariables\u001b[0m\u001b[0;34m,\u001b[0m\u001b[0;34m\u001b[0m\u001b[0;34m\u001b[0m\u001b[0m\n\u001b[0m\u001b[1;32m    669\u001b[0m             )\n\u001b[1;32m    670\u001b[0m \u001b[0;34m\u001b[0m\u001b[0m\n",
      "\u001b[0;32m~/miniconda3/envs/nextstrain/lib/python3.6/site-packages/seaborn/_core.py\u001b[0m in \u001b[0;36m_assign_variables_longform\u001b[0;34m(self, data, **kwargs)\u001b[0m\n\u001b[1;32m    885\u001b[0m                     \u001b[0;31m# We don't know what this name means\u001b[0m\u001b[0;34m\u001b[0m\u001b[0;34m\u001b[0m\u001b[0;34m\u001b[0m\u001b[0m\n\u001b[1;32m    886\u001b[0m                     \u001b[0merr\u001b[0m \u001b[0;34m=\u001b[0m \u001b[0;34mf\"Could not interpret value `{val}` for parameter `{key}`\"\u001b[0m\u001b[0;34m\u001b[0m\u001b[0;34m\u001b[0m\u001b[0m\n\u001b[0;32m--> 887\u001b[0;31m                     \u001b[0;32mraise\u001b[0m \u001b[0mValueError\u001b[0m\u001b[0;34m(\u001b[0m\u001b[0merr\u001b[0m\u001b[0;34m)\u001b[0m\u001b[0;34m\u001b[0m\u001b[0;34m\u001b[0m\u001b[0m\n\u001b[0m\u001b[1;32m    888\u001b[0m \u001b[0;34m\u001b[0m\u001b[0m\n\u001b[1;32m    889\u001b[0m             \u001b[0;32melse\u001b[0m\u001b[0;34m:\u001b[0m\u001b[0;34m\u001b[0m\u001b[0;34m\u001b[0m\u001b[0m\n",
      "\u001b[0;31mValueError\u001b[0m: Could not interpret value `pair_type` for parameter `hue`"
     ]
    }
   ],
   "source": [
    "# recoding non-coding mutations as synonymous\n",
    "pairs_snvs['mut_type'] = pairs_snvs.mut_type.replace(to_replace='NC', value='S')\n",
    "\n",
    "ax = sns.displot(pairs_snvs, x='mut_type', hue='pair_type', stat='probability', common_norm=False, multiple='dodge')\n",
    "ax.set(ylabel='Proportion', xlabel='Type of mutation')"
   ]
  },
  {
   "cell_type": "code",
   "execution_count": 13,
   "metadata": {},
   "outputs": [
    {
     "data": {
      "text/plain": [
       "0.014893495804383162"
      ]
     },
     "execution_count": 13,
     "metadata": {},
     "output_type": "execute_result"
    }
   ],
   "source": [
    "def chi2(df):\n",
    "    cross_tab = pd.crosstab(df['pair_type'], df['mut_type'])\n",
    "    chi2, p, dof, ex = stats.chi2_contingency(cross_tab, correction = False)\n",
    "    return p\n",
    "\n",
    "chi2(pairs_snvs)"
   ]
  },
  {
   "cell_type": "code",
   "execution_count": 14,
   "metadata": {},
   "outputs": [
    {
     "data": {
      "text/plain": [
       "<seaborn.axisgrid.FacetGrid at 0x7f4690aa7080>"
      ]
     },
     "execution_count": 14,
     "metadata": {},
     "output_type": "execute_result"
    },
    {
     "data": {
      "image/png": "[encoded data removed]",
      "text/plain": [
       "<Figure size 415x360 with 1 Axes>"
      ]
     },
     "metadata": {
      "needs_background": "light"
     },
     "output_type": "display_data"
    }
   ],
   "source": [
    "ax = sns.displot(pairs_snvs, x='frequency', hue='mut_type', stat='probability', common_norm=False, element='step')\n",
    "ax.set(ylabel='Proportion', xlabel='Frequency of iSNV')"
   ]
  },
  {
   "cell_type": "markdown",
   "metadata": {},
   "source": [
    "## Where in the genome are SNVs located?"
   ]
  },
  {
   "cell_type": "code",
   "execution_count": 109,
   "metadata": {},
   "outputs": [
    {
     "data": {
      "image/png": "[encoded data removed]",
      "text/plain": [
       "<Figure size 1440x144 with 1 Axes>"
      ]
     },
     "metadata": {
      "needs_background": "light"
     },
     "output_type": "display_data"
    }
   ],
   "source": [
    "df_location = pd.value_counts(pairs_snvs.position).to_frame(name='count').rename_axis('position').reset_index()\n",
    "plt.figure(figsize=(20,2))\n",
    "ax = sns.scatterplot(data=df_location, x='position', y='count')\n"
   ]
  },
  {
   "cell_type": "code",
   "execution_count": 110,
   "metadata": {},
   "outputs": [
    {
     "data": {
      "text/html": [
       "<div>\n",
       "<style scoped>\n",
       "    .dataframe tbody tr th:only-of-type {\n",
       "        vertical-align: middle;\n",
       "    }\n",
       "\n",
       "    .dataframe tbody tr th {\n",
       "        vertical-align: top;\n",
       "    }\n",
       "\n",
       "    .dataframe thead th {\n",
       "        text-align: right;\n",
       "    }\n",
       "</style>\n",
       "<table border=\"1\" class=\"dataframe\">\n",
       "  <thead>\n",
       "    <tr style=\"text-align: right;\">\n",
       "      <th></th>\n",
       "      <th>position</th>\n",
       "      <th>count</th>\n",
       "    </tr>\n",
       "  </thead>\n",
       "  <tbody>\n",
       "    <tr>\n",
       "      <th>0</th>\n",
       "      <td>1730</td>\n",
       "      <td>15</td>\n",
       "    </tr>\n",
       "    <tr>\n",
       "      <th>1</th>\n",
       "      <td>9502</td>\n",
       "      <td>11</td>\n",
       "    </tr>\n",
       "    <tr>\n",
       "      <th>2</th>\n",
       "      <td>3466</td>\n",
       "      <td>9</td>\n",
       "    </tr>\n",
       "    <tr>\n",
       "      <th>3</th>\n",
       "      <td>29867</td>\n",
       "      <td>9</td>\n",
       "    </tr>\n",
       "    <tr>\n",
       "      <th>4</th>\n",
       "      <td>19406</td>\n",
       "      <td>7</td>\n",
       "    </tr>\n",
       "    <tr>\n",
       "      <th>5</th>\n",
       "      <td>8084</td>\n",
       "      <td>7</td>\n",
       "    </tr>\n",
       "    <tr>\n",
       "      <th>6</th>\n",
       "      <td>29865</td>\n",
       "      <td>7</td>\n",
       "    </tr>\n",
       "    <tr>\n",
       "      <th>7</th>\n",
       "      <td>13225</td>\n",
       "      <td>7</td>\n",
       "    </tr>\n",
       "    <tr>\n",
       "      <th>8</th>\n",
       "      <td>3547</td>\n",
       "      <td>6</td>\n",
       "    </tr>\n",
       "    <tr>\n",
       "      <th>9</th>\n",
       "      <td>21440</td>\n",
       "      <td>6</td>\n",
       "    </tr>\n",
       "    <tr>\n",
       "      <th>10</th>\n",
       "      <td>25777</td>\n",
       "      <td>5</td>\n",
       "    </tr>\n",
       "    <tr>\n",
       "      <th>11</th>\n",
       "      <td>29559</td>\n",
       "      <td>5</td>\n",
       "    </tr>\n",
       "    <tr>\n",
       "      <th>12</th>\n",
       "      <td>26524</td>\n",
       "      <td>5</td>\n",
       "    </tr>\n",
       "    <tr>\n",
       "      <th>13</th>\n",
       "      <td>11374</td>\n",
       "      <td>5</td>\n",
       "    </tr>\n",
       "    <tr>\n",
       "      <th>14</th>\n",
       "      <td>29859</td>\n",
       "      <td>5</td>\n",
       "    </tr>\n",
       "    <tr>\n",
       "      <th>15</th>\n",
       "      <td>29866</td>\n",
       "      <td>5</td>\n",
       "    </tr>\n",
       "    <tr>\n",
       "      <th>16</th>\n",
       "      <td>2204</td>\n",
       "      <td>5</td>\n",
       "    </tr>\n",
       "    <tr>\n",
       "      <th>17</th>\n",
       "      <td>28360</td>\n",
       "      <td>5</td>\n",
       "    </tr>\n",
       "    <tr>\n",
       "      <th>18</th>\n",
       "      <td>13857</td>\n",
       "      <td>4</td>\n",
       "    </tr>\n",
       "    <tr>\n",
       "      <th>19</th>\n",
       "      <td>8815</td>\n",
       "      <td>4</td>\n",
       "    </tr>\n",
       "  </tbody>\n",
       "</table>\n",
       "</div>"
      ],
      "text/plain": [
       "    position  count\n",
       "0       1730     15\n",
       "1       9502     11\n",
       "2       3466      9\n",
       "3      29867      9\n",
       "4      19406      7\n",
       "5       8084      7\n",
       "6      29865      7\n",
       "7      13225      7\n",
       "8       3547      6\n",
       "9      21440      6\n",
       "10     25777      5\n",
       "11     29559      5\n",
       "12     26524      5\n",
       "13     11374      5\n",
       "14     29859      5\n",
       "15     29866      5\n",
       "16      2204      5\n",
       "17     28360      5\n",
       "18     13857      4\n",
       "19      8815      4"
      ]
     },
     "execution_count": 110,
     "metadata": {},
     "output_type": "execute_result"
    }
   ],
   "source": [
    "df_location.head(n=20)"
   ]
  },
  {
   "cell_type": "markdown",
   "metadata": {},
   "source": [
    "## Are iSNVs shared by transmission pairs?"
   ]
  },
  {
   "cell_type": "code",
   "execution_count": 126,
   "metadata": {},
   "outputs": [
    {
     "data": {
      "text/plain": [
       "<matplotlib.legend.Legend at 0x7f46876b3780>"
      ]
     },
     "execution_count": 126,
     "metadata": {},
     "output_type": "execute_result"
    },
    {
     "data": {
      "image/png": "[encoded data removed]",
      "text/plain": [
       "<Figure size 432x288 with 1 Axes>"
      ]
     },
     "metadata": {
      "needs_background": "light"
     },
     "output_type": "display_data"
    }
   ],
   "source": [
    "def pair_frequencies(df):\n",
    "    freq1 = []\n",
    "    freq2 = []\n",
    "    address_id = []\n",
    "    variants = []\n",
    "    for address in df.address_identifier.unique():\n",
    "        samples = df.loc[df.address_identifier==address, 'nwgc_id'].unique()\n",
    "        snvs = df.loc[df.nwgc_id.isin(samples), 'snv'].unique()\n",
    "        df1 = df[df.nwgc_id == samples[0]]\n",
    "        df2 = df[df.nwgc_id == samples[1]]\n",
    "        for snv in snvs:\n",
    "            if snv in df1.snv.values: \n",
    "                freq1.append(df1.loc[df1.snv==snv, 'frequency'].values[0])\n",
    "            else:\n",
    "                freq1.append(0)\n",
    "            if snv in df2.snv.values:\n",
    "                freq2.append(df2.loc[df2.snv==snv, 'frequency'].values[0])\n",
    "            else:\n",
    "                freq2.append(0)\n",
    "            address_id.append(address)\n",
    "            variants.append(snv)\n",
    "    frequencies = pd.DataFrame({'freq1':freq1, 'freq2':freq2, 'address_id':address_id, 'snv':variants})\n",
    "    return frequencies\n",
    "        \n",
    "frequencies = pair_frequencies(pairs_snvs)\n",
    "fig, ax = plt.subplots()\n",
    "sns.scatterplot(data = frequencies, x='freq1', y='freq2', ax=ax, hue = 'address_id')\n",
    "ax.legend(loc='center left', bbox_to_anchor=(1, 0.5))\n",
    "\n"
   ]
  },
  {
   "cell_type": "code",
   "execution_count": 123,
   "metadata": {},
   "outputs": [
    {
     "data": {
      "text/html": [
       "<div>\n",
       "<style scoped>\n",
       "    .dataframe tbody tr th:only-of-type {\n",
       "        vertical-align: middle;\n",
       "    }\n",
       "\n",
       "    .dataframe tbody tr th {\n",
       "        vertical-align: top;\n",
       "    }\n",
       "\n",
       "    .dataframe thead th {\n",
       "        text-align: right;\n",
       "    }\n",
       "</style>\n",
       "<table border=\"1\" class=\"dataframe\">\n",
       "  <thead>\n",
       "    <tr style=\"text-align: right;\">\n",
       "      <th></th>\n",
       "      <th>freq1</th>\n",
       "      <th>freq2</th>\n",
       "      <th>address_id</th>\n",
       "      <th>snv</th>\n",
       "    </tr>\n",
       "  </thead>\n",
       "  <tbody>\n",
       "    <tr>\n",
       "      <th>139</th>\n",
       "      <td>0.054795</td>\n",
       "      <td>0.069226</td>\n",
       "      <td>1babb6a8a7f6b2ceb37a5310f03e0422d7fbf90b31cd93...</td>\n",
       "      <td>G1730A</td>\n",
       "    </tr>\n",
       "    <tr>\n",
       "      <th>145</th>\n",
       "      <td>0.010150</td>\n",
       "      <td>0.012157</td>\n",
       "      <td>1babb6a8a7f6b2ceb37a5310f03e0422d7fbf90b31cd93...</td>\n",
       "      <td>T3466C</td>\n",
       "    </tr>\n",
       "    <tr>\n",
       "      <th>157</th>\n",
       "      <td>0.015946</td>\n",
       "      <td>0.012636</td>\n",
       "      <td>1babb6a8a7f6b2ceb37a5310f03e0422d7fbf90b31cd93...</td>\n",
       "      <td>C13068T</td>\n",
       "    </tr>\n",
       "    <tr>\n",
       "      <th>225</th>\n",
       "      <td>0.064189</td>\n",
       "      <td>0.040108</td>\n",
       "      <td>307052212120d9fa9c74e15e777e034ee08b921cd84ffd...</td>\n",
       "      <td>T3466C</td>\n",
       "    </tr>\n",
       "    <tr>\n",
       "      <th>243</th>\n",
       "      <td>0.041379</td>\n",
       "      <td>0.017915</td>\n",
       "      <td>307052212120d9fa9c74e15e777e034ee08b921cd84ffd...</td>\n",
       "      <td>T11374C</td>\n",
       "    </tr>\n",
       "    <tr>\n",
       "      <th>250</th>\n",
       "      <td>0.080508</td>\n",
       "      <td>0.019167</td>\n",
       "      <td>307052212120d9fa9c74e15e777e034ee08b921cd84ffd...</td>\n",
       "      <td>T12842C</td>\n",
       "    </tr>\n",
       "    <tr>\n",
       "      <th>327</th>\n",
       "      <td>0.064033</td>\n",
       "      <td>0.079638</td>\n",
       "      <td>5b2e54e1655948f146f2db8ab3af2c980cc8b127793b98...</td>\n",
       "      <td>G1730A</td>\n",
       "    </tr>\n",
       "    <tr>\n",
       "      <th>328</th>\n",
       "      <td>0.014418</td>\n",
       "      <td>0.021417</td>\n",
       "      <td>5b2e54e1655948f146f2db8ab3af2c980cc8b127793b98...</td>\n",
       "      <td>T3466C</td>\n",
       "    </tr>\n",
       "    <tr>\n",
       "      <th>329</th>\n",
       "      <td>0.012987</td>\n",
       "      <td>0.010320</td>\n",
       "      <td>5b2e54e1655948f146f2db8ab3af2c980cc8b127793b98...</td>\n",
       "      <td>G8084A</td>\n",
       "    </tr>\n",
       "    <tr>\n",
       "      <th>335</th>\n",
       "      <td>0.015592</td>\n",
       "      <td>0.017182</td>\n",
       "      <td>5b2e54e1655948f146f2db8ab3af2c980cc8b127793b98...</td>\n",
       "      <td>C21440T</td>\n",
       "    </tr>\n",
       "    <tr>\n",
       "      <th>340</th>\n",
       "      <td>0.016643</td>\n",
       "      <td>0.014583</td>\n",
       "      <td>5b2e54e1655948f146f2db8ab3af2c980cc8b127793b98...</td>\n",
       "      <td>T29859C</td>\n",
       "    </tr>\n",
       "    <tr>\n",
       "      <th>341</th>\n",
       "      <td>0.025742</td>\n",
       "      <td>0.012742</td>\n",
       "      <td>5b2e54e1655948f146f2db8ab3af2c980cc8b127793b98...</td>\n",
       "      <td>T29867C</td>\n",
       "    </tr>\n",
       "    <tr>\n",
       "      <th>349</th>\n",
       "      <td>0.020213</td>\n",
       "      <td>0.025641</td>\n",
       "      <td>9bb5653e89d9c277356d62e6b503646e0df7b204e69f27...</td>\n",
       "      <td>G1730A</td>\n",
       "    </tr>\n",
       "    <tr>\n",
       "      <th>355</th>\n",
       "      <td>0.051557</td>\n",
       "      <td>0.056757</td>\n",
       "      <td>9bb5653e89d9c277356d62e6b503646e0df7b204e69f27...</td>\n",
       "      <td>C9502T</td>\n",
       "    </tr>\n",
       "    <tr>\n",
       "      <th>357</th>\n",
       "      <td>0.012939</td>\n",
       "      <td>0.019126</td>\n",
       "      <td>9bb5653e89d9c277356d62e6b503646e0df7b204e69f27...</td>\n",
       "      <td>T11374C</td>\n",
       "    </tr>\n",
       "    <tr>\n",
       "      <th>533</th>\n",
       "      <td>0.081734</td>\n",
       "      <td>0.054328</td>\n",
       "      <td>f95458a50e7c3ac0a9721aa348c8276470b5837f2545f2...</td>\n",
       "      <td>G1730A</td>\n",
       "    </tr>\n",
       "    <tr>\n",
       "      <th>647</th>\n",
       "      <td>0.028771</td>\n",
       "      <td>0.019456</td>\n",
       "      <td>f95458a50e7c3ac0a9721aa348c8276470b5837f2545f2...</td>\n",
       "      <td>T8482C</td>\n",
       "    </tr>\n",
       "    <tr>\n",
       "      <th>873</th>\n",
       "      <td>0.045818</td>\n",
       "      <td>0.011048</td>\n",
       "      <td>f95458a50e7c3ac0a9721aa348c8276470b5837f2545f2...</td>\n",
       "      <td>C21440T</td>\n",
       "    </tr>\n",
       "    <tr>\n",
       "      <th>917</th>\n",
       "      <td>0.019850</td>\n",
       "      <td>0.011632</td>\n",
       "      <td>f95458a50e7c3ac0a9721aa348c8276470b5837f2545f2...</td>\n",
       "      <td>T24663C</td>\n",
       "    </tr>\n",
       "    <tr>\n",
       "      <th>953</th>\n",
       "      <td>0.042244</td>\n",
       "      <td>0.010183</td>\n",
       "      <td>f95458a50e7c3ac0a9721aa348c8276470b5837f2545f2...</td>\n",
       "      <td>C26919T</td>\n",
       "    </tr>\n",
       "  </tbody>\n",
       "</table>\n",
       "</div>"
      ],
      "text/plain": [
       "        freq1     freq2                                         address_id  \\\n",
       "139  0.054795  0.069226  1babb6a8a7f6b2ceb37a5310f03e0422d7fbf90b31cd93...   \n",
       "145  0.010150  0.012157  1babb6a8a7f6b2ceb37a5310f03e0422d7fbf90b31cd93...   \n",
       "157  0.015946  0.012636  1babb6a8a7f6b2ceb37a5310f03e0422d7fbf90b31cd93...   \n",
       "225  0.064189  0.040108  307052212120d9fa9c74e15e777e034ee08b921cd84ffd...   \n",
       "243  0.041379  0.017915  307052212120d9fa9c74e15e777e034ee08b921cd84ffd...   \n",
       "250  0.080508  0.019167  307052212120d9fa9c74e15e777e034ee08b921cd84ffd...   \n",
       "327  0.064033  0.079638  5b2e54e1655948f146f2db8ab3af2c980cc8b127793b98...   \n",
       "328  0.014418  0.021417  5b2e54e1655948f146f2db8ab3af2c980cc8b127793b98...   \n",
       "329  0.012987  0.010320  5b2e54e1655948f146f2db8ab3af2c980cc8b127793b98...   \n",
       "335  0.015592  0.017182  5b2e54e1655948f146f2db8ab3af2c980cc8b127793b98...   \n",
       "340  0.016643  0.014583  5b2e54e1655948f146f2db8ab3af2c980cc8b127793b98...   \n",
       "341  0.025742  0.012742  5b2e54e1655948f146f2db8ab3af2c980cc8b127793b98...   \n",
       "349  0.020213  0.025641  9bb5653e89d9c277356d62e6b503646e0df7b204e69f27...   \n",
       "355  0.051557  0.056757  9bb5653e89d9c277356d62e6b503646e0df7b204e69f27...   \n",
       "357  0.012939  0.019126  9bb5653e89d9c277356d62e6b503646e0df7b204e69f27...   \n",
       "533  0.081734  0.054328  f95458a50e7c3ac0a9721aa348c8276470b5837f2545f2...   \n",
       "647  0.028771  0.019456  f95458a50e7c3ac0a9721aa348c8276470b5837f2545f2...   \n",
       "873  0.045818  0.011048  f95458a50e7c3ac0a9721aa348c8276470b5837f2545f2...   \n",
       "917  0.019850  0.011632  f95458a50e7c3ac0a9721aa348c8276470b5837f2545f2...   \n",
       "953  0.042244  0.010183  f95458a50e7c3ac0a9721aa348c8276470b5837f2545f2...   \n",
       "\n",
       "         snv  \n",
       "139   G1730A  \n",
       "145   T3466C  \n",
       "157  C13068T  \n",
       "225   T3466C  \n",
       "243  T11374C  \n",
       "250  T12842C  \n",
       "327   G1730A  \n",
       "328   T3466C  \n",
       "329   G8084A  \n",
       "335  C21440T  \n",
       "340  T29859C  \n",
       "341  T29867C  \n",
       "349   G1730A  \n",
       "355   C9502T  \n",
       "357  T11374C  \n",
       "533   G1730A  \n",
       "647   T8482C  \n",
       "873  C21440T  \n",
       "917  T24663C  \n",
       "953  C26919T  "
      ]
     },
     "execution_count": 123,
     "metadata": {},
     "output_type": "execute_result"
    }
   ],
   "source": [
    "frequencies[(frequencies.freq1 > 0) & (frequencies.freq2 > 0)]"
   ]
  },
  {
   "cell_type": "code",
   "execution_count": 141,
   "metadata": {},
   "outputs": [],
   "source": [
    "def compare_pairwise(df):\n",
    "    #df = df[df.frequency>=0.03]\n",
    "    samples = df['nwgc_id'].unique()\n",
    "    length = len(samples)\n",
    "    adj_matrix = np.zeros((length, length, 4))\n",
    "    for indexA, sampleA in enumerate(samples):\n",
    "        for indexB, sampleB in enumerate(samples):\n",
    "            if indexA != indexB:\n",
    "                dfA = df[df.nwgc_id==sampleA]\n",
    "                dfB = df[df.nwgc_id==sampleB]\n",
    "                comparison = 0\n",
    "                if dfA.address_identifier.values[0] == dfB.address_identifier.values[0]:\n",
    "                    comparison = 1\n",
    "                df_merged = dfA.merge(dfB, how = 'inner', on ='snv')\n",
    "                n_shared = len(df_merged.index)\n",
    "                adj_matrix[indexA, indexB, 0] = n_shared\n",
    "                adj_matrix[indexB, indexA, 0] = n_shared\n",
    "                adj_matrix[indexA, indexB, 1] = comparison\n",
    "                adj_matrix[indexB, indexA, 1] = comparison\n",
    "    return adj_matrix\n",
    "\n",
    "matrix = compare_pairwise(pairs_snvs)"
   ]
  },
  {
   "cell_type": "code",
   "execution_count": 142,
   "metadata": {},
   "outputs": [
    {
     "data": {
      "image/png": "[encoded data removed]",
      "text/plain": [
       "<Figure size 450.5x360 with 1 Axes>"
      ]
     },
     "metadata": {
      "needs_background": "light"
     },
     "output_type": "display_data"
    }
   ],
   "source": [
    "def shared_df(matrix):\n",
    "    shared_m = matrix[:, :, 0]\n",
    "    pair_m = matrix[:, :, 1]\n",
    "    length = len(shared_m)\n",
    "    shared = shared_m[np.tril_indices(n=length, k=-1)]\n",
    "    pair = pair_m[np.tril_indices(n=length, k=-1)]\n",
    "    shared_df = pd.DataFrame({'n_shared':shared, 'pair_comparison':pair})\n",
    "    return shared_df\n",
    "\n",
    "shared_df = shared_df(matrix)\n",
    "\n",
    "def plot_shared(df):\n",
    "    ax = sns.displot(df, x='n_shared', hue = 'pair_comparison', stat = 'probability', common_norm=False, multiple='dodge')\n",
    "    ax.set(ylabel='Proportion', xlabel='No. of shared iSNVs')\n",
    "    ax._legend.set_title('Pairwise comparison')\n",
    "    new_labels = ['Random pairs', 'Household pairs']\n",
    "    for t, l in zip(ax._legend.texts, new_labels): \n",
    "        t.set_text(l)\n",
    "    return plt.show()\n",
    "\n",
    "plot_shared(shared_df)"
   ]
  },
  {
   "cell_type": "code",
   "execution_count": 100,
   "metadata": {},
   "outputs": [
    {
     "ename": "AttributeError",
     "evalue": "'DataFrame' object has no attribute 'pair'",
     "output_type": "error",
     "traceback": [
      "\u001b[0;31m---------------------------------------------------------------------------\u001b[0m",
      "\u001b[0;31mAttributeError\u001b[0m                            Traceback (most recent call last)",
      "\u001b[0;32m<ipython-input-100-c25f14a8b4fd>\u001b[0m in \u001b[0;36m<module>\u001b[0;34m\u001b[0m\n\u001b[1;32m     16\u001b[0m     \u001b[0;32mreturn\u001b[0m \u001b[0mshared_pairs\u001b[0m\u001b[0;34m\u001b[0m\u001b[0;34m\u001b[0m\u001b[0m\n\u001b[1;32m     17\u001b[0m \u001b[0;34m\u001b[0m\u001b[0m\n\u001b[0;32m---> 18\u001b[0;31m \u001b[0mshared_pairs\u001b[0m \u001b[0;34m=\u001b[0m \u001b[0mshared_by_pair\u001b[0m\u001b[0;34m(\u001b[0m\u001b[0mpairs_snvs\u001b[0m\u001b[0;34m)\u001b[0m\u001b[0;34m\u001b[0m\u001b[0;34m\u001b[0m\u001b[0m\n\u001b[0m\u001b[1;32m     19\u001b[0m \u001b[0mfig\u001b[0m\u001b[0;34m,\u001b[0m \u001b[0max\u001b[0m \u001b[0;34m=\u001b[0m \u001b[0mplt\u001b[0m\u001b[0;34m.\u001b[0m\u001b[0msubplots\u001b[0m\u001b[0;34m(\u001b[0m\u001b[0;34m)\u001b[0m\u001b[0;34m\u001b[0m\u001b[0;34m\u001b[0m\u001b[0m\n\u001b[1;32m     20\u001b[0m \u001b[0msns\u001b[0m\u001b[0;34m.\u001b[0m\u001b[0mhistplot\u001b[0m\u001b[0;34m(\u001b[0m\u001b[0mshared_pairs\u001b[0m\u001b[0;34m,\u001b[0m \u001b[0mx\u001b[0m\u001b[0;34m=\u001b[0m\u001b[0;34m'n_shared'\u001b[0m\u001b[0;34m,\u001b[0m \u001b[0mhue\u001b[0m \u001b[0;34m=\u001b[0m \u001b[0;34m'pair_type'\u001b[0m\u001b[0;34m,\u001b[0m \u001b[0mmultiple\u001b[0m\u001b[0;34m=\u001b[0m\u001b[0;34m'stack'\u001b[0m\u001b[0;34m,\u001b[0m \u001b[0max\u001b[0m \u001b[0;34m=\u001b[0m\u001b[0max\u001b[0m\u001b[0;34m)\u001b[0m\u001b[0;34m\u001b[0m\u001b[0;34m\u001b[0m\u001b[0m\n",
      "\u001b[0;32m<ipython-input-100-c25f14a8b4fd>\u001b[0m in \u001b[0;36mshared_by_pair\u001b[0;34m(df)\u001b[0m\n\u001b[1;32m      3\u001b[0m     \u001b[0mpair_types\u001b[0m \u001b[0;34m=\u001b[0m \u001b[0;34m[\u001b[0m\u001b[0;34m]\u001b[0m\u001b[0;34m\u001b[0m\u001b[0;34m\u001b[0m\u001b[0m\n\u001b[1;32m      4\u001b[0m     \u001b[0mshared_snvs\u001b[0m \u001b[0;34m=\u001b[0m \u001b[0;34m[\u001b[0m\u001b[0;34m]\u001b[0m\u001b[0;34m\u001b[0m\u001b[0;34m\u001b[0m\u001b[0m\n\u001b[0;32m----> 5\u001b[0;31m     \u001b[0;32mfor\u001b[0m \u001b[0mpair\u001b[0m \u001b[0;32min\u001b[0m \u001b[0mdf\u001b[0m\u001b[0;34m.\u001b[0m\u001b[0mpair\u001b[0m\u001b[0;34m.\u001b[0m\u001b[0munique\u001b[0m\u001b[0;34m(\u001b[0m\u001b[0;34m)\u001b[0m\u001b[0;34m:\u001b[0m\u001b[0;34m\u001b[0m\u001b[0;34m\u001b[0m\u001b[0m\n\u001b[0m\u001b[1;32m      6\u001b[0m         \u001b[0msamples\u001b[0m \u001b[0;34m=\u001b[0m \u001b[0mdf\u001b[0m\u001b[0;34m.\u001b[0m\u001b[0mloc\u001b[0m\u001b[0;34m[\u001b[0m\u001b[0mdf\u001b[0m\u001b[0;34m.\u001b[0m\u001b[0mpair\u001b[0m\u001b[0;34m==\u001b[0m\u001b[0mpair\u001b[0m\u001b[0;34m,\u001b[0m \u001b[0;34m'nwgc_id'\u001b[0m\u001b[0;34m]\u001b[0m\u001b[0;34m.\u001b[0m\u001b[0munique\u001b[0m\u001b[0;34m(\u001b[0m\u001b[0;34m)\u001b[0m\u001b[0;34m\u001b[0m\u001b[0;34m\u001b[0m\u001b[0m\n\u001b[1;32m      7\u001b[0m         \u001b[0ms1\u001b[0m \u001b[0;34m=\u001b[0m \u001b[0mset\u001b[0m\u001b[0;34m(\u001b[0m\u001b[0mdf\u001b[0m\u001b[0;34m.\u001b[0m\u001b[0mloc\u001b[0m\u001b[0;34m[\u001b[0m\u001b[0mdf\u001b[0m\u001b[0;34m.\u001b[0m\u001b[0mnwgc_id\u001b[0m\u001b[0;34m==\u001b[0m\u001b[0msamples\u001b[0m\u001b[0;34m[\u001b[0m\u001b[0;36m0\u001b[0m\u001b[0;34m]\u001b[0m\u001b[0;34m,\u001b[0m \u001b[0;34m'snv'\u001b[0m\u001b[0;34m]\u001b[0m\u001b[0;34m)\u001b[0m\u001b[0;34m\u001b[0m\u001b[0;34m\u001b[0m\u001b[0m\n",
      "\u001b[0;32m~/miniconda3/envs/nextstrain/lib/python3.6/site-packages/pandas/core/generic.py\u001b[0m in \u001b[0;36m__getattr__\u001b[0;34m(self, name)\u001b[0m\n\u001b[1;32m   5128\u001b[0m             \u001b[0;32mif\u001b[0m \u001b[0mself\u001b[0m\u001b[0;34m.\u001b[0m\u001b[0m_info_axis\u001b[0m\u001b[0;34m.\u001b[0m\u001b[0m_can_hold_identifiers_and_holds_name\u001b[0m\u001b[0;34m(\u001b[0m\u001b[0mname\u001b[0m\u001b[0;34m)\u001b[0m\u001b[0;34m:\u001b[0m\u001b[0;34m\u001b[0m\u001b[0;34m\u001b[0m\u001b[0m\n\u001b[1;32m   5129\u001b[0m                 \u001b[0;32mreturn\u001b[0m \u001b[0mself\u001b[0m\u001b[0;34m[\u001b[0m\u001b[0mname\u001b[0m\u001b[0;34m]\u001b[0m\u001b[0;34m\u001b[0m\u001b[0;34m\u001b[0m\u001b[0m\n\u001b[0;32m-> 5130\u001b[0;31m             \u001b[0;32mreturn\u001b[0m \u001b[0mobject\u001b[0m\u001b[0;34m.\u001b[0m\u001b[0m__getattribute__\u001b[0m\u001b[0;34m(\u001b[0m\u001b[0mself\u001b[0m\u001b[0;34m,\u001b[0m \u001b[0mname\u001b[0m\u001b[0;34m)\u001b[0m\u001b[0;34m\u001b[0m\u001b[0;34m\u001b[0m\u001b[0m\n\u001b[0m\u001b[1;32m   5131\u001b[0m \u001b[0;34m\u001b[0m\u001b[0m\n\u001b[1;32m   5132\u001b[0m     \u001b[0;32mdef\u001b[0m \u001b[0m__setattr__\u001b[0m\u001b[0;34m(\u001b[0m\u001b[0mself\u001b[0m\u001b[0;34m,\u001b[0m \u001b[0mname\u001b[0m\u001b[0;34m:\u001b[0m \u001b[0mstr\u001b[0m\u001b[0;34m,\u001b[0m \u001b[0mvalue\u001b[0m\u001b[0;34m)\u001b[0m \u001b[0;34m->\u001b[0m \u001b[0;32mNone\u001b[0m\u001b[0;34m:\u001b[0m\u001b[0;34m\u001b[0m\u001b[0;34m\u001b[0m\u001b[0m\n",
      "\u001b[0;31mAttributeError\u001b[0m: 'DataFrame' object has no attribute 'pair'"
     ]
    }
   ],
   "source": [
    "def shared_by_pair(df):\n",
    "    pairs = []\n",
    "    pair_types = []\n",
    "    shared_snvs = []\n",
    "    for pair in df.pair.unique():\n",
    "        samples = df.loc[df.pair==pair, 'nwgc_id'].unique()\n",
    "        s1 = set(df.loc[df.nwgc_id==samples[0], 'snv'])\n",
    "        s2 = set(df.loc[df.nwgc_id==samples[1], 'snv'])\n",
    "        shared = s1.intersection(s2)\n",
    "        n_shared = len(shared)\n",
    "        pair_type = df.loc[df.pair == pair, 'pair_type'].unique()[0]\n",
    "        pairs.append(pair)\n",
    "        pair_types.append(pair_type) \n",
    "        shared_snvs.append(n_shared)\n",
    "    shared_pairs = pd.DataFrame({'pair' : pairs, 'n_shared' : shared_snvs, 'pair_type' : pair_types})\n",
    "    return shared_pairs\n",
    "\n",
    "shared_pairs = shared_by_pair(pairs_snvs)\n",
    "fig, ax = plt.subplots()\n",
    "sns.histplot(shared_pairs, x='n_shared', hue = 'pair_type', multiple='stack', ax =ax)\n",
    "ax.set_xticks(np.arange(min(shared_pairs['n_shared'])+0.5, max(shared_pairs['n_shared'])+0.5, 1.0))\n",
    "ax.set_xticklabels(range(7))\n",
    "plt.show()\n",
    "        \n",
    "\n",
    "        "
   ]
  },
  {
   "cell_type": "code",
   "execution_count": 19,
   "metadata": {},
   "outputs": [
    {
     "data": {
      "text/plain": [
       "RanksumsResult(statistic=0.560448538317805, pvalue=0.5751735319201967)"
      ]
     },
     "execution_count": 19,
     "metadata": {},
     "output_type": "execute_result"
    }
   ],
   "source": [
    "stats.ranksums(shared_pairs.loc[shared_pairs.pair_type == 'household', 'n_shared'], shared_pairs.loc[shared_pairs.pair_type == 'random', 'n_shared'])"
   ]
  },
  {
   "cell_type": "code",
   "execution_count": null,
   "metadata": {},
   "outputs": [],
   "source": []
  }
 ],
 "metadata": {
  "kernelspec": {
   "display_name": "nextstrain",
   "language": "python",
   "name": "nextstrain"
  },
  "language_info": {
   "codemirror_mode": {
    "name": "ipython",
    "version": 3
   },
   "file_extension": ".py",
   "mimetype": "text/x-python",
   "name": "python",
   "nbconvert_exporter": "python",
   "pygments_lexer": "ipython3",
   "version": "3.6.12"
  }
 },
 "nbformat": 4,
 "nbformat_minor": 4
}
